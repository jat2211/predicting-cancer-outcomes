{
 "cells": [
  {
   "cell_type": "markdown",
   "id": "2de9459d",
   "metadata": {},
   "source": [
    "# PACKAGES"
   ]
  },
  {
   "cell_type": "code",
   "execution_count": 1,
   "id": "e0208043",
   "metadata": {},
   "outputs": [],
   "source": [
    "import numpy as np\n",
    "import pandas as pd\n",
    "import math\n",
    "from statistics import mean"
   ]
  },
  {
   "cell_type": "code",
   "execution_count": 2,
   "id": "13fdd22a",
   "metadata": {},
   "outputs": [],
   "source": [
    "from sklearn.model_selection import train_test_split\n",
    "from sklearn.ensemble import RandomForestClassifier\n",
    "from sklearn import metrics"
   ]
  },
  {
   "cell_type": "markdown",
   "id": "bfcc44c0",
   "metadata": {},
   "source": [
    "# DATA EXPLORATION AND VISUALIZATION"
   ]
  },
  {
   "cell_type": "markdown",
   "id": "400e9f2f",
   "metadata": {},
   "source": [
    "## Loading in Dataset"
   ]
  },
  {
   "cell_type": "code",
   "execution_count": 3,
   "id": "e52ec852",
   "metadata": {},
   "outputs": [],
   "source": [
    "clinical_df = pd.read_csv(\"clinical.csv\")\n",
    "genomic_df = pd.read_csv('genomics.csv')"
   ]
  },
  {
   "cell_type": "markdown",
   "id": "80adb095",
   "metadata": {},
   "source": [
    "## Visualizations (Clinical Dataset)"
   ]
  },
  {
   "cell_type": "code",
   "execution_count": 4,
   "id": "3c0ae52f",
   "metadata": {
    "scrolled": true
   },
   "outputs": [
    {
     "data": {
      "text/html": [
       "<div>\n",
       "<style scoped>\n",
       "    .dataframe tbody tr th:only-of-type {\n",
       "        vertical-align: middle;\n",
       "    }\n",
       "\n",
       "    .dataframe tbody tr th {\n",
       "        vertical-align: top;\n",
       "    }\n",
       "\n",
       "    .dataframe thead th {\n",
       "        text-align: right;\n",
       "    }\n",
       "</style>\n",
       "<table border=\"1\" class=\"dataframe\">\n",
       "  <thead>\n",
       "    <tr style=\"text-align: right;\">\n",
       "      <th></th>\n",
       "      <th>ID</th>\n",
       "      <th>Outcome</th>\n",
       "      <th>Survival.Months</th>\n",
       "      <th>Age</th>\n",
       "      <th>Grade</th>\n",
       "      <th>Num.Primaries</th>\n",
       "      <th>T</th>\n",
       "      <th>N</th>\n",
       "      <th>M</th>\n",
       "      <th>Radiation</th>\n",
       "      <th>Stage</th>\n",
       "      <th>Primary.Site</th>\n",
       "      <th>Histology</th>\n",
       "      <th>Tumor.Size</th>\n",
       "      <th>Num.Mutated.Genes</th>\n",
       "      <th>Num.Mutations</th>\n",
       "    </tr>\n",
       "  </thead>\n",
       "  <tbody>\n",
       "    <tr>\n",
       "      <th>0</th>\n",
       "      <td>1</td>\n",
       "      <td>Alive</td>\n",
       "      <td>9.0</td>\n",
       "      <td>67</td>\n",
       "      <td>4</td>\n",
       "      <td>0</td>\n",
       "      <td>UNK</td>\n",
       "      <td>2.0</td>\n",
       "      <td>NaN</td>\n",
       "      <td>0</td>\n",
       "      <td>IV</td>\n",
       "      <td>Left Lower Lobe</td>\n",
       "      <td>Squamous cell carcinoma</td>\n",
       "      <td>1.4</td>\n",
       "      <td>8</td>\n",
       "      <td>8</td>\n",
       "    </tr>\n",
       "    <tr>\n",
       "      <th>1</th>\n",
       "      <td>2</td>\n",
       "      <td>Dead</td>\n",
       "      <td>19.0</td>\n",
       "      <td>73</td>\n",
       "      <td>2</td>\n",
       "      <td>0</td>\n",
       "      <td>UNK</td>\n",
       "      <td>2.0</td>\n",
       "      <td>0.0</td>\n",
       "      <td>5</td>\n",
       "      <td>IV</td>\n",
       "      <td>Right Upper Lobe</td>\n",
       "      <td>Adenocarcinoma</td>\n",
       "      <td>NaN</td>\n",
       "      <td>2</td>\n",
       "      <td>2</td>\n",
       "    </tr>\n",
       "    <tr>\n",
       "      <th>2</th>\n",
       "      <td>3</td>\n",
       "      <td>Dead</td>\n",
       "      <td>13.0</td>\n",
       "      <td>72</td>\n",
       "      <td>3</td>\n",
       "      <td>0</td>\n",
       "      <td>2</td>\n",
       "      <td>2.0</td>\n",
       "      <td>0.0</td>\n",
       "      <td>0</td>\n",
       "      <td>IIIA</td>\n",
       "      <td>Right Upper Lobe</td>\n",
       "      <td>Adenocarcinoma</td>\n",
       "      <td>1.5</td>\n",
       "      <td>1</td>\n",
       "      <td>1</td>\n",
       "    </tr>\n",
       "    <tr>\n",
       "      <th>3</th>\n",
       "      <td>4</td>\n",
       "      <td>Dead</td>\n",
       "      <td>15.0</td>\n",
       "      <td>69</td>\n",
       "      <td>9</td>\n",
       "      <td>1</td>\n",
       "      <td>1a</td>\n",
       "      <td>0.0</td>\n",
       "      <td>1.0</td>\n",
       "      <td>0</td>\n",
       "      <td>IA</td>\n",
       "      <td>Right Upper Lobe</td>\n",
       "      <td>Adenocarcinoma</td>\n",
       "      <td>NaN</td>\n",
       "      <td>4</td>\n",
       "      <td>4</td>\n",
       "    </tr>\n",
       "    <tr>\n",
       "      <th>4</th>\n",
       "      <td>5</td>\n",
       "      <td>Dead</td>\n",
       "      <td>10.0</td>\n",
       "      <td>76</td>\n",
       "      <td>9</td>\n",
       "      <td>0</td>\n",
       "      <td>UNK</td>\n",
       "      <td>NaN</td>\n",
       "      <td>NaN</td>\n",
       "      <td>0</td>\n",
       "      <td>IIIA</td>\n",
       "      <td>Left Hilar</td>\n",
       "      <td>Large-cell carcinoma</td>\n",
       "      <td>NaN</td>\n",
       "      <td>3</td>\n",
       "      <td>3</td>\n",
       "    </tr>\n",
       "  </tbody>\n",
       "</table>\n",
       "</div>"
      ],
      "text/plain": [
       "   ID Outcome  Survival.Months  Age  Grade  Num.Primaries    T    N    M  \\\n",
       "0   1   Alive              9.0   67      4              0  UNK  2.0  NaN   \n",
       "1   2    Dead             19.0   73      2              0  UNK  2.0  0.0   \n",
       "2   3    Dead             13.0   72      3              0    2  2.0  0.0   \n",
       "3   4    Dead             15.0   69      9              1   1a  0.0  1.0   \n",
       "4   5    Dead             10.0   76      9              0  UNK  NaN  NaN   \n",
       "\n",
       "   Radiation Stage      Primary.Site                Histology  Tumor.Size  \\\n",
       "0          0    IV   Left Lower Lobe  Squamous cell carcinoma         1.4   \n",
       "1          5    IV  Right Upper Lobe           Adenocarcinoma         NaN   \n",
       "2          0  IIIA  Right Upper Lobe           Adenocarcinoma         1.5   \n",
       "3          0    IA  Right Upper Lobe           Adenocarcinoma         NaN   \n",
       "4          0  IIIA        Left Hilar     Large-cell carcinoma         NaN   \n",
       "\n",
       "   Num.Mutated.Genes  Num.Mutations  \n",
       "0                  8              8  \n",
       "1                  2              2  \n",
       "2                  1              1  \n",
       "3                  4              4  \n",
       "4                  3              3  "
      ]
     },
     "execution_count": 4,
     "metadata": {},
     "output_type": "execute_result"
    }
   ],
   "source": [
    "clinical_df.head()"
   ]
  },
  {
   "cell_type": "code",
   "execution_count": 5,
   "id": "16500340",
   "metadata": {},
   "outputs": [
    {
     "data": {
      "text/plain": [
       "count    190.000000\n",
       "mean      22.186842\n",
       "std       12.420140\n",
       "min        9.000000\n",
       "25%       11.000000\n",
       "50%       16.000000\n",
       "75%       34.000000\n",
       "max       71.000000\n",
       "Name: Survival.Months, dtype: float64"
      ]
     },
     "execution_count": 5,
     "metadata": {},
     "output_type": "execute_result"
    }
   ],
   "source": [
    "clinical_df['Survival.Months'].describe()"
   ]
  },
  {
   "cell_type": "code",
   "execution_count": 6,
   "id": "4cd666c8",
   "metadata": {},
   "outputs": [
    {
     "data": {
      "text/plain": [
       "count    190.000000\n",
       "mean      70.173684\n",
       "std        6.146909\n",
       "min       56.000000\n",
       "25%       67.000000\n",
       "50%       71.000000\n",
       "75%       74.000000\n",
       "max       84.000000\n",
       "Name: Age, dtype: float64"
      ]
     },
     "execution_count": 6,
     "metadata": {},
     "output_type": "execute_result"
    }
   ],
   "source": [
    "clinical_df['Age'].describe()"
   ]
  },
  {
   "cell_type": "markdown",
   "id": "638eec88",
   "metadata": {},
   "source": [
    "From first glance, the \"Radiation\" feature stands out and it would be of interest to know how this affects the survival rate, in part because we can't establish immediately if the correlation between a patient's \"Outcome\" is causational or correlational. Since the goal of this analysis is for use following diagnosis, whether or not a patient has or will need radiation treatment may not be not at the time of diagnosis."
   ]
  },
  {
   "cell_type": "code",
   "execution_count": 7,
   "id": "709666bb",
   "metadata": {},
   "outputs": [
    {
     "data": {
      "text/plain": [
       "ID                     int64\n",
       "Outcome               object\n",
       "Survival.Months      float64\n",
       "Age                    int64\n",
       "Grade                  int64\n",
       "Num.Primaries          int64\n",
       "T                     object\n",
       "N                    float64\n",
       "M                    float64\n",
       "Radiation              int64\n",
       "Stage                 object\n",
       "Primary.Site          object\n",
       "Histology             object\n",
       "Tumor.Size           float64\n",
       "Num.Mutated.Genes      int64\n",
       "Num.Mutations          int64\n",
       "dtype: object"
      ]
     },
     "execution_count": 7,
     "metadata": {},
     "output_type": "execute_result"
    }
   ],
   "source": [
    "# determining type for each feature\n",
    "clinical_df.dtypes"
   ]
  },
  {
   "cell_type": "code",
   "execution_count": 8,
   "id": "5c05a5a5",
   "metadata": {},
   "outputs": [
    {
     "data": {
      "text/plain": [
       "'Alive'"
      ]
     },
     "execution_count": 8,
     "metadata": {},
     "output_type": "execute_result"
    }
   ],
   "source": [
    "clinical_df.iloc[0,1]"
   ]
  },
  {
   "cell_type": "markdown",
   "id": "352477b9",
   "metadata": {},
   "source": [
    "We can do a quick check to see if there any non-{0,5} values in the \"Radiation\" feature."
   ]
  },
  {
   "cell_type": "code",
   "execution_count": 9,
   "id": "d9213ad6",
   "metadata": {},
   "outputs": [
    {
     "name": "stdout",
     "output_type": "stream",
     "text": [
      "The present data in the radiation feature is in the list [0, 5]\n"
     ]
    }
   ],
   "source": [
    "rad_vals = list(clinical_df['Radiation'].unique())\n",
    "print(f\"The present data in the radiation feature is in the list {rad_vals}\")"
   ]
  },
  {
   "cell_type": "code",
   "execution_count": 10,
   "id": "5fe8bc97",
   "metadata": {},
   "outputs": [
    {
     "name": "stdout",
     "output_type": "stream",
     "text": [
      "The survival rate of patients with radiation treatment: 0.27\n",
      "The survival rate of patients without radiation treatment: 0.18\n"
     ]
    }
   ],
   "source": [
    "# patients that had radiation treatment\n",
    "yes_radiation = clinical_df[clinical_df['Radiation'] == 5]\n",
    "surv_w_radiation = yes_radiation[yes_radiation['Outcome'] == 'Alive']\n",
    "\n",
    "# patients that didn't have radiation treatment\n",
    "no_radiation = clinical_df[clinical_df[\"Radiation\"] == 0]\n",
    "surv_wo_radiation = no_radiation[no_radiation['Outcome'] == 'Alive']\n",
    "\n",
    "\n",
    "# survival rates with radiation/no-radiation patients\n",
    "rate_radiation = \"{:.2f}\".format(len(surv_w_radiation) / len(yes_radiation))\n",
    "rate_no_radiation = \"{:.2f}\".format(len(surv_wo_radiation) / len(no_radiation))\n",
    "\n",
    "print(f\"The survival rate of patients with radiation treatment: {rate_radiation}\")\n",
    "print(f\"The survival rate of patients without radiation treatment: {rate_no_radiation}\")"
   ]
  },
  {
   "cell_type": "markdown",
   "id": "02bd6264",
   "metadata": {},
   "source": [
    "We can one-hot encode the radiation feature during preprocessing."
   ]
  },
  {
   "cell_type": "markdown",
   "id": "af3b09c9",
   "metadata": {},
   "source": [
    "Another question to consider is how the followup time affects a patients outcome. For example, we might expect to see a few potential trends here:\n",
    "- a patient is more likely to die the longer the followup takes place as a means of time naturally passing\n",
    "- a patient is more likely to die the longer the followup takes place as other parametrs related to the cancer itself has had time to increase, leading to more serious case\n",
    "- a patient is more likely to die the shorter the followup takes place as shorter followup times may mean that a patients case is more serious and requires attention sooner\n",
    "\n",
    "Due to these factors, it's good to establish a basis for what to expect with having a wide range of followup times, especially considering that we might want to control the followup time during an analysis."
   ]
  },
  {
   "cell_type": "markdown",
   "id": "9594fc9f",
   "metadata": {},
   "source": [
    "Another reason for establishing a better understanding of the effects of different followup times is that we might not be able to simply remove all data not equal or near our desired **control time (12 months)**. The data removed may prove more valuable than not."
   ]
  },
  {
   "cell_type": "code",
   "execution_count": 11,
   "id": "870245a5",
   "metadata": {
    "scrolled": true
   },
   "outputs": [
    {
     "name": "stdout",
     "output_type": "stream",
     "text": [
      "Number of patients living at followup: 40\n",
      "Number of patients dead at followup: 150\n",
      "Total number of patients in dataset: 190\n"
     ]
    }
   ],
   "source": [
    "# limiting our data to just the columns of interest (speed up computational time for larger datasets\n",
    "# but not a necessary thing to do extensively with these datasets)\n",
    "followup_df = clinical_df[[\"Outcome\", \"Survival.Months\"]]\n",
    "\n",
    "num_living = len(followup_df[followup_df['Outcome'] == \"Alive\"])\n",
    "num_dead = len(followup_df[followup_df['Outcome'] == \"Dead\"])\n",
    "\n",
    "print(f\"Number of patients living at followup: {num_living}\")\n",
    "print(f\"Number of patients dead at followup: {num_dead}\")\n",
    "print(f\"Total number of patients in dataset: {len(followup_df)}\")"
   ]
  },
  {
   "cell_type": "code",
   "execution_count": 12,
   "id": "258a275e",
   "metadata": {},
   "outputs": [
    {
     "name": "stdout",
     "output_type": "stream",
     "text": [
      "Number of patients that followed up within two months of a year: 71\n",
      "Percentage of the dataset made up of patients in target month range: 37.37%\n"
     ]
    }
   ],
   "source": [
    "target_months = clinical_df[(clinical_df['Survival.Months'] >= 10) & (clinical_df['Survival.Months'] <= 14)]\n",
    "target_pats = len(target_months)\n",
    "tot_pats = len(clinical_df)\n",
    "per_target = \"{:.2f}\".format((target_pats / tot_pats) * 100)\n",
    "\n",
    "print(f\"Number of patients that followed up within two months of a year: {target_pats}\")\n",
    "print(f\"Percentage of the dataset made up of patients in target month range: {per_target}%\")"
   ]
  },
  {
   "cell_type": "code",
   "execution_count": 13,
   "id": "3d2d4179",
   "metadata": {},
   "outputs": [
    {
     "data": {
      "text/plain": [
       "11.0    27\n",
       "10.0    23\n",
       "13.0    21\n",
       "36.0    18\n",
       "32.0    11\n",
       "38.0     9\n",
       "33.0     8\n",
       "16.0     8\n",
       "9.0      7\n",
       "22.0     7\n",
       "15.0     7\n",
       "35.0     6\n",
       "23.0     6\n",
       "19.0     6\n",
       "34.0     4\n",
       "29.0     3\n",
       "9.5      3\n",
       "42.0     3\n",
       "71.0     2\n",
       "18.0     2\n",
       "39.0     2\n",
       "40.0     1\n",
       "37.0     1\n",
       "41.0     1\n",
       "46.0     1\n",
       "50.0     1\n",
       "26.0     1\n",
       "24.0     1\n",
       "Name: Survival.Months, dtype: int64"
      ]
     },
     "execution_count": 13,
     "metadata": {},
     "output_type": "execute_result"
    }
   ],
   "source": [
    "clinical_df['Survival.Months'].value_counts()"
   ]
  },
  {
   "cell_type": "markdown",
   "id": "2b90be02",
   "metadata": {},
   "source": [
    "Since there aren't actually any patients that followed up at exactly 12 months, this gives me more incentive to predict the outcomes of patients around a target set of months. In order to do so, we can sample half of the target range of months in the dataset for use in testing, which would give us a train/test split for the **entire** dataset that is almost roughly 80/20. Using this method, we can still use the rest of the data for building a model, as well as have some data points from our target pool for use in training."
   ]
  },
  {
   "cell_type": "markdown",
   "id": "39bb8bae",
   "metadata": {},
   "source": [
    "## Visualizations (Genomics Dataset and Gene-related Features)"
   ]
  },
  {
   "cell_type": "code",
   "execution_count": 14,
   "id": "541b7c22",
   "metadata": {},
   "outputs": [
    {
     "data": {
      "text/html": [
       "<div>\n",
       "<style scoped>\n",
       "    .dataframe tbody tr th:only-of-type {\n",
       "        vertical-align: middle;\n",
       "    }\n",
       "\n",
       "    .dataframe tbody tr th {\n",
       "        vertical-align: top;\n",
       "    }\n",
       "\n",
       "    .dataframe thead th {\n",
       "        text-align: right;\n",
       "    }\n",
       "</style>\n",
       "<table border=\"1\" class=\"dataframe\">\n",
       "  <thead>\n",
       "    <tr style=\"text-align: right;\">\n",
       "      <th></th>\n",
       "      <th>ID</th>\n",
       "      <th>Gene</th>\n",
       "    </tr>\n",
       "  </thead>\n",
       "  <tbody>\n",
       "    <tr>\n",
       "      <th>0</th>\n",
       "      <td>1</td>\n",
       "      <td>AKT1</td>\n",
       "    </tr>\n",
       "    <tr>\n",
       "      <th>1</th>\n",
       "      <td>158</td>\n",
       "      <td>AKT1</td>\n",
       "    </tr>\n",
       "    <tr>\n",
       "      <th>2</th>\n",
       "      <td>88</td>\n",
       "      <td>ALK_Col1</td>\n",
       "    </tr>\n",
       "    <tr>\n",
       "      <th>3</th>\n",
       "      <td>132</td>\n",
       "      <td>ALK_Col1</td>\n",
       "    </tr>\n",
       "    <tr>\n",
       "      <th>4</th>\n",
       "      <td>18</td>\n",
       "      <td>ALK_Col2</td>\n",
       "    </tr>\n",
       "  </tbody>\n",
       "</table>\n",
       "</div>"
      ],
      "text/plain": [
       "    ID      Gene\n",
       "0    1      AKT1\n",
       "1  158      AKT1\n",
       "2   88  ALK_Col1\n",
       "3  132  ALK_Col1\n",
       "4   18  ALK_Col2"
      ]
     },
     "execution_count": 14,
     "metadata": {},
     "output_type": "execute_result"
    }
   ],
   "source": [
    "genomic_df.head()"
   ]
  },
  {
   "cell_type": "code",
   "execution_count": 15,
   "id": "30b876c7",
   "metadata": {},
   "outputs": [
    {
     "data": {
      "text/plain": [
       "array(['AKT1', 'ALK_Col1', 'ALK_Col2', 'APC', 'ATM_Col1', 'ATM_Col2',\n",
       "       'BRAF', 'CCND2', 'CDKN2A', 'CTNNB1', 'DNMT3A', 'EGFR', 'ERBB3',\n",
       "       'ERBB4', 'ESR1', 'FBXW7', 'FGFR1', 'FGFR3', 'FLT4', 'FOXL2',\n",
       "       'GNAS', 'HNF1A', 'KRAS_Col1', 'KRAS_Col2', 'MAP2K2', 'MET',\n",
       "       'MLH_Col2', 'MSH2', 'MSH6', 'NF_Col1', 'NF_Col2', 'NF_Col3',\n",
       "       'NF_Col5', 'NOTCH1', 'NTRK1', 'PDGFRB', 'PIK3CA', 'PIK3CB',\n",
       "       'POLD_Col2', 'PTCH1', 'PTEN', 'RB1', 'SMARCA4', 'SMARCB1', 'SMO',\n",
       "       'STK11', 'TERT', 'TP53_Col1', 'TP53_Col2', 'TSC2'], dtype=object)"
      ]
     },
     "execution_count": 15,
     "metadata": {},
     "output_type": "execute_result"
    }
   ],
   "source": [
    "genomic_df['Gene'].unique()"
   ]
  },
  {
   "cell_type": "markdown",
   "id": "ecb858db",
   "metadata": {},
   "source": [
    "Given more data, it would be interesting to see the features of the clinical dataset that relate to gene mutatations as separate data, but we might suffer from issues of sparsity here if we **join** the two datasets."
   ]
  },
  {
   "cell_type": "markdown",
   "id": "5750a745",
   "metadata": {},
   "source": [
    "However, if there is still a trend in number of mutated genes and outcome then it might be worth it to keep the mutation columns as independent. If there is no trend, then this means that the type of gene might play a larger role in the outcome than anticipated."
   ]
  },
  {
   "cell_type": "code",
   "execution_count": 16,
   "id": "c26a71ee",
   "metadata": {},
   "outputs": [
    {
     "data": {
      "text/plain": [
       "[0, 1, 2, 3, 4, 5, 6, 7, 8]"
      ]
     },
     "execution_count": 16,
     "metadata": {},
     "output_type": "execute_result"
    }
   ],
   "source": [
    "num_mutations_lst = sorted(list(clinical_df['Num.Mutated.Genes'].unique()))\n",
    "\n",
    "num_mutations_lst"
   ]
  },
  {
   "cell_type": "code",
   "execution_count": 17,
   "id": "0a3d3e95",
   "metadata": {},
   "outputs": [
    {
     "name": "stdout",
     "output_type": "stream",
     "text": [
      "The survival rate of patients with 0 mutated genes is: 0.00\n",
      "\tThe total number of patients in this pool is: 6\n",
      "\n",
      "The survival rate of patients with 1 mutated genes is: 0.21\n",
      "\tThe total number of patients in this pool is: 33\n",
      "\n",
      "The survival rate of patients with 2 mutated genes is: 0.21\n",
      "\tThe total number of patients in this pool is: 53\n",
      "\n",
      "The survival rate of patients with 3 mutated genes is: 0.16\n",
      "\tThe total number of patients in this pool is: 55\n",
      "\n",
      "The survival rate of patients with 4 mutated genes is: 0.29\n",
      "\tThe total number of patients in this pool is: 21\n",
      "\n",
      "The survival rate of patients with 5 mutated genes is: 0.27\n",
      "\tThe total number of patients in this pool is: 15\n",
      "\n",
      "The survival rate of patients with 6 mutated genes is: 0.25\n",
      "\tThe total number of patients in this pool is: 4\n",
      "\n",
      "The survival rate of patients with 7 mutated genes is: 0.00\n",
      "\tThe total number of patients in this pool is: 1\n",
      "\n",
      "The survival rate of patients with 8 mutated genes is: 1.00\n",
      "\tThe total number of patients in this pool is: 2\n",
      "\n"
     ]
    }
   ],
   "source": [
    "for num in num_mutations_lst:\n",
    "    num_muts = clinical_df[clinical_df['Num.Mutated.Genes'] == num]\n",
    "    num_living = len(num_muts[num_muts['Outcome'] == 'Alive'])\n",
    "    num_patients = len(num_muts)\n",
    "    rate = \"{:.2f}\".format(num_living / num_patients)\n",
    "    \n",
    "    print(f\"The survival rate of patients with {num} mutated genes is: {rate}\")\n",
    "    print(f\"\\tThe total number of patients in this pool is: {num_patients}\")\n",
    "    print()"
   ]
  },
  {
   "cell_type": "markdown",
   "id": "ea86f7dc",
   "metadata": {},
   "source": [
    "**What we can deduce here is that there is a sufficient lack of data at the ends of this range of number of gene mutations. Since there doesn't seem to be any real correlation amongst the number of genes ($1 \\leq \\text{num_mutated_genes} \\leq 6$) and the survival rate then we can either drop the column in pre-processing or remove the outliers since the model could very well *learn* that all patients with these specific number of genes will either definitely live or definitely die even if this is too small a sample size to make such a decision.**"
   ]
  },
  {
   "cell_type": "markdown",
   "id": "7d9818b7",
   "metadata": {},
   "source": [
    "**Instead, what we could do is create a dataframe where each gene is it's own column and we can flag whether a patient has that gene mutation or not.**"
   ]
  },
  {
   "cell_type": "markdown",
   "id": "af2d96b7",
   "metadata": {},
   "source": [
    "We can consider a separate dataset where each patient's data is expanded such that we drop the 'Num.Mutated.Genes' and 'Num.Mutations' columns and have a row for each gene present."
   ]
  },
  {
   "cell_type": "code",
   "execution_count": 18,
   "id": "0acc2452",
   "metadata": {
    "scrolled": true
   },
   "outputs": [
    {
     "data": {
      "text/html": [
       "<div>\n",
       "<style scoped>\n",
       "    .dataframe tbody tr th:only-of-type {\n",
       "        vertical-align: middle;\n",
       "    }\n",
       "\n",
       "    .dataframe tbody tr th {\n",
       "        vertical-align: top;\n",
       "    }\n",
       "\n",
       "    .dataframe thead th {\n",
       "        text-align: right;\n",
       "    }\n",
       "</style>\n",
       "<table border=\"1\" class=\"dataframe\">\n",
       "  <thead>\n",
       "    <tr style=\"text-align: right;\">\n",
       "      <th></th>\n",
       "      <th>ID</th>\n",
       "      <th>Outcome</th>\n",
       "      <th>Survival.Months</th>\n",
       "      <th>Age</th>\n",
       "      <th>Grade</th>\n",
       "      <th>Num.Primaries</th>\n",
       "      <th>T</th>\n",
       "      <th>N</th>\n",
       "      <th>M</th>\n",
       "      <th>Radiation</th>\n",
       "      <th>Stage</th>\n",
       "      <th>Primary.Site</th>\n",
       "      <th>Histology</th>\n",
       "      <th>Tumor.Size</th>\n",
       "      <th>Num.Mutated.Genes</th>\n",
       "      <th>Num.Mutations</th>\n",
       "      <th>Gene</th>\n",
       "    </tr>\n",
       "  </thead>\n",
       "  <tbody>\n",
       "    <tr>\n",
       "      <th>0</th>\n",
       "      <td>1</td>\n",
       "      <td>Alive</td>\n",
       "      <td>9.0</td>\n",
       "      <td>67</td>\n",
       "      <td>4</td>\n",
       "      <td>0</td>\n",
       "      <td>UNK</td>\n",
       "      <td>2.0</td>\n",
       "      <td>NaN</td>\n",
       "      <td>0</td>\n",
       "      <td>IV</td>\n",
       "      <td>Left Lower Lobe</td>\n",
       "      <td>Squamous cell carcinoma</td>\n",
       "      <td>1.4</td>\n",
       "      <td>8</td>\n",
       "      <td>8</td>\n",
       "      <td>AKT1</td>\n",
       "    </tr>\n",
       "    <tr>\n",
       "      <th>1</th>\n",
       "      <td>1</td>\n",
       "      <td>Alive</td>\n",
       "      <td>9.0</td>\n",
       "      <td>67</td>\n",
       "      <td>4</td>\n",
       "      <td>0</td>\n",
       "      <td>UNK</td>\n",
       "      <td>2.0</td>\n",
       "      <td>NaN</td>\n",
       "      <td>0</td>\n",
       "      <td>IV</td>\n",
       "      <td>Left Lower Lobe</td>\n",
       "      <td>Squamous cell carcinoma</td>\n",
       "      <td>1.4</td>\n",
       "      <td>8</td>\n",
       "      <td>8</td>\n",
       "      <td>CCND2</td>\n",
       "    </tr>\n",
       "    <tr>\n",
       "      <th>2</th>\n",
       "      <td>1</td>\n",
       "      <td>Alive</td>\n",
       "      <td>9.0</td>\n",
       "      <td>67</td>\n",
       "      <td>4</td>\n",
       "      <td>0</td>\n",
       "      <td>UNK</td>\n",
       "      <td>2.0</td>\n",
       "      <td>NaN</td>\n",
       "      <td>0</td>\n",
       "      <td>IV</td>\n",
       "      <td>Left Lower Lobe</td>\n",
       "      <td>Squamous cell carcinoma</td>\n",
       "      <td>1.4</td>\n",
       "      <td>8</td>\n",
       "      <td>8</td>\n",
       "      <td>EGFR</td>\n",
       "    </tr>\n",
       "    <tr>\n",
       "      <th>3</th>\n",
       "      <td>1</td>\n",
       "      <td>Alive</td>\n",
       "      <td>9.0</td>\n",
       "      <td>67</td>\n",
       "      <td>4</td>\n",
       "      <td>0</td>\n",
       "      <td>UNK</td>\n",
       "      <td>2.0</td>\n",
       "      <td>NaN</td>\n",
       "      <td>0</td>\n",
       "      <td>IV</td>\n",
       "      <td>Left Lower Lobe</td>\n",
       "      <td>Squamous cell carcinoma</td>\n",
       "      <td>1.4</td>\n",
       "      <td>8</td>\n",
       "      <td>8</td>\n",
       "      <td>FGFR3</td>\n",
       "    </tr>\n",
       "    <tr>\n",
       "      <th>4</th>\n",
       "      <td>1</td>\n",
       "      <td>Alive</td>\n",
       "      <td>9.0</td>\n",
       "      <td>67</td>\n",
       "      <td>4</td>\n",
       "      <td>0</td>\n",
       "      <td>UNK</td>\n",
       "      <td>2.0</td>\n",
       "      <td>NaN</td>\n",
       "      <td>0</td>\n",
       "      <td>IV</td>\n",
       "      <td>Left Lower Lobe</td>\n",
       "      <td>Squamous cell carcinoma</td>\n",
       "      <td>1.4</td>\n",
       "      <td>8</td>\n",
       "      <td>8</td>\n",
       "      <td>KRAS_Col1</td>\n",
       "    </tr>\n",
       "  </tbody>\n",
       "</table>\n",
       "</div>"
      ],
      "text/plain": [
       "   ID Outcome  Survival.Months  Age  Grade  Num.Primaries    T    N   M  \\\n",
       "0   1   Alive              9.0   67      4              0  UNK  2.0 NaN   \n",
       "1   1   Alive              9.0   67      4              0  UNK  2.0 NaN   \n",
       "2   1   Alive              9.0   67      4              0  UNK  2.0 NaN   \n",
       "3   1   Alive              9.0   67      4              0  UNK  2.0 NaN   \n",
       "4   1   Alive              9.0   67      4              0  UNK  2.0 NaN   \n",
       "\n",
       "   Radiation Stage     Primary.Site                Histology  Tumor.Size  \\\n",
       "0          0    IV  Left Lower Lobe  Squamous cell carcinoma         1.4   \n",
       "1          0    IV  Left Lower Lobe  Squamous cell carcinoma         1.4   \n",
       "2          0    IV  Left Lower Lobe  Squamous cell carcinoma         1.4   \n",
       "3          0    IV  Left Lower Lobe  Squamous cell carcinoma         1.4   \n",
       "4          0    IV  Left Lower Lobe  Squamous cell carcinoma         1.4   \n",
       "\n",
       "   Num.Mutated.Genes  Num.Mutations       Gene  \n",
       "0                  8              8       AKT1  \n",
       "1                  8              8      CCND2  \n",
       "2                  8              8       EGFR  \n",
       "3                  8              8      FGFR3  \n",
       "4                  8              8  KRAS_Col1  "
      ]
     },
     "execution_count": 18,
     "metadata": {},
     "output_type": "execute_result"
    }
   ],
   "source": [
    "gene_patient_df = pd.merge(clinical_df, genomic_df)\n",
    "\n",
    "gene_patient_df.head()"
   ]
  },
  {
   "cell_type": "code",
   "execution_count": 19,
   "id": "10ba3dc7",
   "metadata": {},
   "outputs": [
    {
     "name": "stdout",
     "output_type": "stream",
     "text": [
      "The survival rate of patients with the mutated gene AKT1 is: 1.00\n",
      "\tThe total number of patients in this pool is: 2\n",
      "\n",
      "The survival rate of patients with the mutated gene CCND2 is: 1.00\n",
      "\tThe total number of patients in this pool is: 2\n",
      "\n",
      "The survival rate of patients with the mutated gene EGFR is: 1.00\n",
      "\tThe total number of patients in this pool is: 6\n",
      "\n",
      "The survival rate of patients with the mutated gene FGFR3 is: 1.00\n",
      "\tThe total number of patients in this pool is: 2\n",
      "\n",
      "The survival rate of patients with the mutated gene KRAS_Col1 is: 0.24\n",
      "\tThe total number of patients in this pool is: 55\n",
      "\n",
      "The survival rate of patients with the mutated gene PDGFRB is: 1.00\n",
      "\tThe total number of patients in this pool is: 5\n",
      "\n",
      "The survival rate of patients with the mutated gene STK11 is: 0.17\n",
      "\tThe total number of patients in this pool is: 23\n",
      "\n",
      "The survival rate of patients with the mutated gene TSC2 is: 0.10\n",
      "\tThe total number of patients in this pool is: 31\n",
      "\n",
      "The survival rate of patients with the mutated gene SMO is: 0.12\n",
      "\tThe total number of patients in this pool is: 8\n",
      "\n",
      "The survival rate of patients with the mutated gene TP53_Col1 is: 0.26\n",
      "\tThe total number of patients in this pool is: 117\n",
      "\n",
      "The survival rate of patients with the mutated gene CDKN2A is: 0.07\n",
      "\tThe total number of patients in this pool is: 45\n",
      "\n",
      "The survival rate of patients with the mutated gene MET is: 0.11\n",
      "\tThe total number of patients in this pool is: 9\n",
      "\n",
      "The survival rate of patients with the mutated gene PIK3CB is: 0.00\n",
      "\tThe total number of patients in this pool is: 11\n",
      "\n",
      "The survival rate of patients with the mutated gene APC is: 0.00\n",
      "\tThe total number of patients in this pool is: 19\n",
      "\n",
      "The survival rate of patients with the mutated gene MSH2 is: 0.03\n",
      "\tThe total number of patients in this pool is: 30\n",
      "\n",
      "The survival rate of patients with the mutated gene GNAS is: 0.14\n",
      "\tThe total number of patients in this pool is: 7\n",
      "\n",
      "The survival rate of patients with the mutated gene PIK3CA is: 0.43\n",
      "\tThe total number of patients in this pool is: 7\n",
      "\n",
      "The survival rate of patients with the mutated gene TERT is: 0.00\n",
      "\tThe total number of patients in this pool is: 10\n",
      "\n",
      "The survival rate of patients with the mutated gene NTRK1 is: 0.00\n",
      "\tThe total number of patients in this pool is: 7\n",
      "\n",
      "The survival rate of patients with the mutated gene FBXW7 is: 0.00\n",
      "\tThe total number of patients in this pool is: 8\n",
      "\n",
      "The survival rate of patients with the mutated gene RB1 is: 0.00\n",
      "\tThe total number of patients in this pool is: 4\n",
      "\n",
      "The survival rate of patients with the mutated gene DNMT3A is: 1.00\n",
      "\tThe total number of patients in this pool is: 3\n",
      "\n",
      "The survival rate of patients with the mutated gene FGFR1 is: 0.25\n",
      "\tThe total number of patients in this pool is: 4\n",
      "\n",
      "The survival rate of patients with the mutated gene ALK_Col2 is: 1.00\n",
      "\tThe total number of patients in this pool is: 2\n",
      "\n",
      "The survival rate of patients with the mutated gene MAP2K2 is: 1.00\n",
      "\tThe total number of patients in this pool is: 1\n",
      "\n",
      "The survival rate of patients with the mutated gene SMARCA4 is: 1.00\n",
      "\tThe total number of patients in this pool is: 1\n",
      "\n",
      "The survival rate of patients with the mutated gene PTEN is: 0.00\n",
      "\tThe total number of patients in this pool is: 7\n",
      "\n",
      "The survival rate of patients with the mutated gene NF_Col1 is: 0.20\n",
      "\tThe total number of patients in this pool is: 5\n",
      "\n",
      "The survival rate of patients with the mutated gene SMARCB1 is: 0.00\n",
      "\tThe total number of patients in this pool is: 9\n",
      "\n",
      "The survival rate of patients with the mutated gene NF_Col3 is: 0.00\n",
      "\tThe total number of patients in this pool is: 7\n",
      "\n",
      "The survival rate of patients with the mutated gene CTNNB1 is: 1.00\n",
      "\tThe total number of patients in this pool is: 4\n",
      "\n",
      "The survival rate of patients with the mutated gene NOTCH1 is: 1.00\n",
      "\tThe total number of patients in this pool is: 4\n",
      "\n",
      "The survival rate of patients with the mutated gene PTCH1 is: 1.00\n",
      "\tThe total number of patients in this pool is: 4\n",
      "\n",
      "The survival rate of patients with the mutated gene TP53_Col2 is: 0.00\n",
      "\tThe total number of patients in this pool is: 8\n",
      "\n",
      "The survival rate of patients with the mutated gene NF_Col2 is: 0.00\n",
      "\tThe total number of patients in this pool is: 10\n",
      "\n",
      "The survival rate of patients with the mutated gene POLD_Col2 is: 1.00\n",
      "\tThe total number of patients in this pool is: 5\n",
      "\n",
      "The survival rate of patients with the mutated gene ATM_Col1 is: 1.00\n",
      "\tThe total number of patients in this pool is: 4\n",
      "\n",
      "The survival rate of patients with the mutated gene ERBB3 is: 1.00\n",
      "\tThe total number of patients in this pool is: 1\n",
      "\n",
      "The survival rate of patients with the mutated gene ERBB4 is: 1.00\n",
      "\tThe total number of patients in this pool is: 2\n",
      "\n",
      "The survival rate of patients with the mutated gene MSH6 is: 0.00\n",
      "\tThe total number of patients in this pool is: 7\n",
      "\n",
      "The survival rate of patients with the mutated gene ALK_Col1 is: 1.00\n",
      "\tThe total number of patients in this pool is: 2\n",
      "\n",
      "The survival rate of patients with the mutated gene MLH_Col2 is: 1.00\n",
      "\tThe total number of patients in this pool is: 1\n",
      "\n",
      "The survival rate of patients with the mutated gene BRAF is: 1.00\n",
      "\tThe total number of patients in this pool is: 1\n",
      "\n",
      "The survival rate of patients with the mutated gene FOXL2 is: 1.00\n",
      "\tThe total number of patients in this pool is: 2\n",
      "\n",
      "The survival rate of patients with the mutated gene HNF1A is: 1.00\n",
      "\tThe total number of patients in this pool is: 1\n",
      "\n",
      "The survival rate of patients with the mutated gene NF_Col5 is: 0.00\n",
      "\tThe total number of patients in this pool is: 2\n",
      "\n",
      "The survival rate of patients with the mutated gene FLT4 is: 1.00\n",
      "\tThe total number of patients in this pool is: 2\n",
      "\n",
      "The survival rate of patients with the mutated gene ATM_Col2 is: 1.00\n",
      "\tThe total number of patients in this pool is: 1\n",
      "\n",
      "The survival rate of patients with the mutated gene ESR1 is: 1.00\n",
      "\tThe total number of patients in this pool is: 1\n",
      "\n",
      "The survival rate of patients with the mutated gene KRAS_Col2 is: 1.00\n",
      "\tThe total number of patients in this pool is: 1\n",
      "\n"
     ]
    }
   ],
   "source": [
    "gene_lst = gene_patient_df['Gene'].unique()\n",
    "num_pats_lst = []\n",
    "rate_lst = []\n",
    "\n",
    "for gene in gene_lst:\n",
    "    gene_df = gene_patient_df[gene_patient_df['Gene'] == gene]\n",
    "    num_living = len(gene_df[gene_df['Outcome'] == 'Alive'])\n",
    "    num_patients = len(gene_df)\n",
    "    rate = \"{:.2f}\".format(num_living / num_patients)\n",
    "    \n",
    "    num_pats_lst.append(num_patients)\n",
    "    rate_lst.append(rate)\n",
    "    \n",
    "    \n",
    "    print(f\"The survival rate of patients with the mutated gene {gene} is: {rate}\")\n",
    "    print(f\"\\tThe total number of patients in this pool is: {num_patients}\\n\")"
   ]
  },
  {
   "cell_type": "code",
   "execution_count": 20,
   "id": "614ac599",
   "metadata": {},
   "outputs": [
    {
     "name": "stdout",
     "output_type": "stream",
     "text": [
      "Number of genes present in dataframe: 50\n"
     ]
    },
    {
     "data": {
      "text/html": [
       "<div>\n",
       "<style scoped>\n",
       "    .dataframe tbody tr th:only-of-type {\n",
       "        vertical-align: middle;\n",
       "    }\n",
       "\n",
       "    .dataframe tbody tr th {\n",
       "        vertical-align: top;\n",
       "    }\n",
       "\n",
       "    .dataframe thead th {\n",
       "        text-align: right;\n",
       "    }\n",
       "</style>\n",
       "<table border=\"1\" class=\"dataframe\">\n",
       "  <thead>\n",
       "    <tr style=\"text-align: right;\">\n",
       "      <th></th>\n",
       "      <th>Gene</th>\n",
       "      <th>Number of Patients</th>\n",
       "      <th>Survival Rate</th>\n",
       "    </tr>\n",
       "  </thead>\n",
       "  <tbody>\n",
       "    <tr>\n",
       "      <th>0</th>\n",
       "      <td>AKT1</td>\n",
       "      <td>2</td>\n",
       "      <td>1.00</td>\n",
       "    </tr>\n",
       "    <tr>\n",
       "      <th>1</th>\n",
       "      <td>CCND2</td>\n",
       "      <td>2</td>\n",
       "      <td>1.00</td>\n",
       "    </tr>\n",
       "    <tr>\n",
       "      <th>2</th>\n",
       "      <td>EGFR</td>\n",
       "      <td>6</td>\n",
       "      <td>1.00</td>\n",
       "    </tr>\n",
       "    <tr>\n",
       "      <th>3</th>\n",
       "      <td>FGFR3</td>\n",
       "      <td>2</td>\n",
       "      <td>1.00</td>\n",
       "    </tr>\n",
       "    <tr>\n",
       "      <th>4</th>\n",
       "      <td>KRAS_Col1</td>\n",
       "      <td>55</td>\n",
       "      <td>0.24</td>\n",
       "    </tr>\n",
       "  </tbody>\n",
       "</table>\n",
       "</div>"
      ],
      "text/plain": [
       "        Gene  Number of Patients Survival Rate\n",
       "0       AKT1                   2          1.00\n",
       "1      CCND2                   2          1.00\n",
       "2       EGFR                   6          1.00\n",
       "3      FGFR3                   2          1.00\n",
       "4  KRAS_Col1                  55          0.24"
      ]
     },
     "execution_count": 20,
     "metadata": {},
     "output_type": "execute_result"
    }
   ],
   "source": [
    "gene_mut_survival_dict = {\"Gene\":gene_lst, \"Number of Patients\":num_pats_lst, \"Survival Rate\":rate_lst}\n",
    "gene_mut_survival_df = pd.DataFrame(gene_mut_survival_dict)\n",
    "\n",
    "print(f\"Number of genes present in dataframe: {len(gene_mut_survival_df)}\")\n",
    "gene_mut_survival_df.head()"
   ]
  },
  {
   "cell_type": "markdown",
   "id": "35eefc3d",
   "metadata": {},
   "source": [
    "We can clean this up to contain genes where the number of patients exceeds some arbitrary value such as 20."
   ]
  },
  {
   "cell_type": "code",
   "execution_count": 21,
   "id": "2d28f49f",
   "metadata": {},
   "outputs": [
    {
     "name": "stdout",
     "output_type": "stream",
     "text": [
      "Number of significant genes present in dataframe: 6\n"
     ]
    },
    {
     "data": {
      "text/html": [
       "<div>\n",
       "<style scoped>\n",
       "    .dataframe tbody tr th:only-of-type {\n",
       "        vertical-align: middle;\n",
       "    }\n",
       "\n",
       "    .dataframe tbody tr th {\n",
       "        vertical-align: top;\n",
       "    }\n",
       "\n",
       "    .dataframe thead th {\n",
       "        text-align: right;\n",
       "    }\n",
       "</style>\n",
       "<table border=\"1\" class=\"dataframe\">\n",
       "  <thead>\n",
       "    <tr style=\"text-align: right;\">\n",
       "      <th></th>\n",
       "      <th>Gene</th>\n",
       "      <th>Number of Patients</th>\n",
       "      <th>Survival Rate</th>\n",
       "    </tr>\n",
       "  </thead>\n",
       "  <tbody>\n",
       "    <tr>\n",
       "      <th>4</th>\n",
       "      <td>KRAS_Col1</td>\n",
       "      <td>55</td>\n",
       "      <td>0.24</td>\n",
       "    </tr>\n",
       "    <tr>\n",
       "      <th>6</th>\n",
       "      <td>STK11</td>\n",
       "      <td>23</td>\n",
       "      <td>0.17</td>\n",
       "    </tr>\n",
       "    <tr>\n",
       "      <th>7</th>\n",
       "      <td>TSC2</td>\n",
       "      <td>31</td>\n",
       "      <td>0.10</td>\n",
       "    </tr>\n",
       "    <tr>\n",
       "      <th>9</th>\n",
       "      <td>TP53_Col1</td>\n",
       "      <td>117</td>\n",
       "      <td>0.26</td>\n",
       "    </tr>\n",
       "    <tr>\n",
       "      <th>10</th>\n",
       "      <td>CDKN2A</td>\n",
       "      <td>45</td>\n",
       "      <td>0.07</td>\n",
       "    </tr>\n",
       "    <tr>\n",
       "      <th>14</th>\n",
       "      <td>MSH2</td>\n",
       "      <td>30</td>\n",
       "      <td>0.03</td>\n",
       "    </tr>\n",
       "  </tbody>\n",
       "</table>\n",
       "</div>"
      ],
      "text/plain": [
       "         Gene  Number of Patients Survival Rate\n",
       "4   KRAS_Col1                  55          0.24\n",
       "6       STK11                  23          0.17\n",
       "7        TSC2                  31          0.10\n",
       "9   TP53_Col1                 117          0.26\n",
       "10     CDKN2A                  45          0.07\n",
       "14       MSH2                  30          0.03"
      ]
     },
     "execution_count": 21,
     "metadata": {},
     "output_type": "execute_result"
    }
   ],
   "source": [
    "clean_gene_survival_df = gene_mut_survival_df[gene_mut_survival_df[\"Number of Patients\"] >= 20]\n",
    "\n",
    "print(f\"Number of significant genes present in dataframe: {len(clean_gene_survival_df)}\")\n",
    "clean_gene_survival_df"
   ]
  },
  {
   "cell_type": "markdown",
   "id": "9c903233",
   "metadata": {},
   "source": [
    "In order to see the difference in the 'Num.Mutated.Genes' and 'Num.Mutations' columns, we can look at a dataframe that only contains patients where these two columns aren't unique (which may mean we can drop one of these columns)."
   ]
  },
  {
   "cell_type": "code",
   "execution_count": 22,
   "id": "3d453663",
   "metadata": {
    "scrolled": false
   },
   "outputs": [
    {
     "name": "stdout",
     "output_type": "stream",
     "text": [
      "Number of patients where the number of mutated genes is different from the total number of mutations: 54\n"
     ]
    },
    {
     "data": {
      "text/html": [
       "<div>\n",
       "<style scoped>\n",
       "    .dataframe tbody tr th:only-of-type {\n",
       "        vertical-align: middle;\n",
       "    }\n",
       "\n",
       "    .dataframe tbody tr th {\n",
       "        vertical-align: top;\n",
       "    }\n",
       "\n",
       "    .dataframe thead th {\n",
       "        text-align: right;\n",
       "    }\n",
       "</style>\n",
       "<table border=\"1\" class=\"dataframe\">\n",
       "  <thead>\n",
       "    <tr style=\"text-align: right;\">\n",
       "      <th></th>\n",
       "      <th>ID</th>\n",
       "      <th>Outcome</th>\n",
       "      <th>Survival.Months</th>\n",
       "      <th>Age</th>\n",
       "      <th>Grade</th>\n",
       "      <th>Num.Primaries</th>\n",
       "      <th>T</th>\n",
       "      <th>N</th>\n",
       "      <th>M</th>\n",
       "      <th>Radiation</th>\n",
       "      <th>Stage</th>\n",
       "      <th>Primary.Site</th>\n",
       "      <th>Histology</th>\n",
       "      <th>Tumor.Size</th>\n",
       "      <th>Num.Mutated.Genes</th>\n",
       "      <th>Num.Mutations</th>\n",
       "    </tr>\n",
       "  </thead>\n",
       "  <tbody>\n",
       "    <tr>\n",
       "      <th>5</th>\n",
       "      <td>6</td>\n",
       "      <td>Dead</td>\n",
       "      <td>11.0</td>\n",
       "      <td>62</td>\n",
       "      <td>9</td>\n",
       "      <td>0</td>\n",
       "      <td>3</td>\n",
       "      <td>2.0</td>\n",
       "      <td>NaN</td>\n",
       "      <td>0</td>\n",
       "      <td>IVB</td>\n",
       "      <td>Left Hilar</td>\n",
       "      <td>Adenocarcinoma</td>\n",
       "      <td>NaN</td>\n",
       "      <td>4</td>\n",
       "      <td>5</td>\n",
       "    </tr>\n",
       "    <tr>\n",
       "      <th>12</th>\n",
       "      <td>13</td>\n",
       "      <td>Dead</td>\n",
       "      <td>22.0</td>\n",
       "      <td>70</td>\n",
       "      <td>3</td>\n",
       "      <td>1</td>\n",
       "      <td>1a</td>\n",
       "      <td>NaN</td>\n",
       "      <td>NaN</td>\n",
       "      <td>5</td>\n",
       "      <td>IV</td>\n",
       "      <td>Right Upper Lobe</td>\n",
       "      <td>Squamous cell carcinoma</td>\n",
       "      <td>3.6</td>\n",
       "      <td>2</td>\n",
       "      <td>3</td>\n",
       "    </tr>\n",
       "    <tr>\n",
       "      <th>14</th>\n",
       "      <td>15</td>\n",
       "      <td>Dead</td>\n",
       "      <td>11.0</td>\n",
       "      <td>62</td>\n",
       "      <td>4</td>\n",
       "      <td>0</td>\n",
       "      <td>3</td>\n",
       "      <td>NaN</td>\n",
       "      <td>NaN</td>\n",
       "      <td>0</td>\n",
       "      <td>IIIA</td>\n",
       "      <td>Right Hilar</td>\n",
       "      <td>Large-cell carcinoma</td>\n",
       "      <td>NaN</td>\n",
       "      <td>1</td>\n",
       "      <td>3</td>\n",
       "    </tr>\n",
       "    <tr>\n",
       "      <th>17</th>\n",
       "      <td>18</td>\n",
       "      <td>Alive</td>\n",
       "      <td>42.0</td>\n",
       "      <td>67</td>\n",
       "      <td>9</td>\n",
       "      <td>0</td>\n",
       "      <td>1b</td>\n",
       "      <td>NaN</td>\n",
       "      <td>0.0</td>\n",
       "      <td>0</td>\n",
       "      <td>IA</td>\n",
       "      <td>Right Lower Lobe</td>\n",
       "      <td>Adenocarcinoma</td>\n",
       "      <td>4.4</td>\n",
       "      <td>4</td>\n",
       "      <td>5</td>\n",
       "    </tr>\n",
       "    <tr>\n",
       "      <th>19</th>\n",
       "      <td>20</td>\n",
       "      <td>Dead</td>\n",
       "      <td>10.0</td>\n",
       "      <td>62</td>\n",
       "      <td>9</td>\n",
       "      <td>0</td>\n",
       "      <td>3</td>\n",
       "      <td>NaN</td>\n",
       "      <td>NaN</td>\n",
       "      <td>0</td>\n",
       "      <td>IIIA</td>\n",
       "      <td>Left Hilar</td>\n",
       "      <td>Large-cell carcinoma</td>\n",
       "      <td>NaN</td>\n",
       "      <td>1</td>\n",
       "      <td>3</td>\n",
       "    </tr>\n",
       "  </tbody>\n",
       "</table>\n",
       "</div>"
      ],
      "text/plain": [
       "    ID Outcome  Survival.Months  Age  Grade  Num.Primaries   T    N    M  \\\n",
       "5    6    Dead             11.0   62      9              0   3  2.0  NaN   \n",
       "12  13    Dead             22.0   70      3              1  1a  NaN  NaN   \n",
       "14  15    Dead             11.0   62      4              0   3  NaN  NaN   \n",
       "17  18   Alive             42.0   67      9              0  1b  NaN  0.0   \n",
       "19  20    Dead             10.0   62      9              0   3  NaN  NaN   \n",
       "\n",
       "    Radiation Stage      Primary.Site                Histology  Tumor.Size  \\\n",
       "5           0   IVB        Left Hilar           Adenocarcinoma         NaN   \n",
       "12          5    IV  Right Upper Lobe  Squamous cell carcinoma         3.6   \n",
       "14          0  IIIA       Right Hilar     Large-cell carcinoma         NaN   \n",
       "17          0    IA  Right Lower Lobe           Adenocarcinoma         4.4   \n",
       "19          0  IIIA        Left Hilar     Large-cell carcinoma         NaN   \n",
       "\n",
       "    Num.Mutated.Genes  Num.Mutations  \n",
       "5                   4              5  \n",
       "12                  2              3  \n",
       "14                  1              3  \n",
       "17                  4              5  \n",
       "19                  1              3  "
      ]
     },
     "execution_count": 22,
     "metadata": {},
     "output_type": "execute_result"
    }
   ],
   "source": [
    "diff_num_mut = clinical_df[clinical_df['Num.Mutated.Genes'] != clinical_df['Num.Mutations']]\n",
    "\n",
    "print(f\"Number of patients where the number of mutated genes is different from the total number of mutations: {len(diff_num_mut)}\")\n",
    "diff_num_mut.head()"
   ]
  },
  {
   "cell_type": "markdown",
   "id": "64c56be0",
   "metadata": {},
   "source": [
    "**Now, since the number of patients that have more than one mutation for at least one mutated gene is a significant number of the total patients, we can check the survival rate of these patients and cross-reference with the survival rate of patients that have only one mutation per mutated gene.**"
   ]
  },
  {
   "cell_type": "code",
   "execution_count": 23,
   "id": "ee9c2738",
   "metadata": {},
   "outputs": [
    {
     "name": "stdout",
     "output_type": "stream",
     "text": [
      "The survival rate of patients with the same number of mutations as mutated genes: 0.19\n",
      "\tThe total number of patients in this pool is: 136\n",
      "\n",
      "The survival rate of patients with the more mutations than mutated genes: 0.26\n",
      "\tThe total number of patients in this pool is: 54\n",
      "\n",
      "The survival rate of all patients: 0.21\n"
     ]
    }
   ],
   "source": [
    "# finding the survival rate of patients with the same number of mutations as mutated genes\n",
    "same_num_mut = clinical_df[clinical_df['Num.Mutated.Genes'] == clinical_df['Num.Mutations']]\n",
    "num_living_same = len(same_num_mut[same_num_mut['Outcome'] == 'Alive'])\n",
    "num_patients_same = len(same_num_mut)\n",
    "rate_same = \"{:.2f}\".format(num_living_same / num_patients_same)\n",
    "\n",
    "print(f\"The survival rate of patients with the same number of mutations as mutated genes: {rate_same}\")\n",
    "print(f\"\\tThe total number of patients in this pool is: {num_patients_same}\\n\")\n",
    "\n",
    "# finding the survival rate of patients with different number of mutations as mutated genes\n",
    "num_living_diff = len(diff_num_mut[diff_num_mut['Outcome'] == 'Alive'])\n",
    "num_patients_diff = len(diff_num_mut)\n",
    "rate_diff = \"{:.2f}\".format(num_living_diff / num_patients_diff)\n",
    "\n",
    "print(f\"The survival rate of patients with the more mutations than mutated genes: {rate_diff}\")\n",
    "print(f\"\\tThe total number of patients in this pool is: {num_patients_diff}\\n\")\n",
    "\n",
    "# finding total survival rate in clinical_df\n",
    "tot_living = len(clinical_df[clinical_df['Outcome'] == 'Alive'])\n",
    "tot_patients = len(clinical_df)\n",
    "rate_all = \"{:.2f}\".format(tot_living / tot_patients)\n",
    "\n",
    "print(f\"The survival rate of all patients: {rate_all}\")"
   ]
  },
  {
   "cell_type": "markdown",
   "id": "cb2c0c8b",
   "metadata": {},
   "source": [
    "**We can speculate why having more mutated genes may lead to a higher survival rate, but this is perhaps best left to an oncologist. Instead it could be beneficial to drop the 'Num.Mutations' and 'Num.Mutated.Genes' columns since we've already established that we will drop the 'Num.Mutated.Genes' column in favor of adding columns for specific genes that seem statistically significant in affecting a patient's survival rate.**\n",
    "\n",
    "**To add to this, we can also create a new column that flags whether or not the number of mutations is equal to the number of genes.**"
   ]
  },
  {
   "cell_type": "markdown",
   "id": "f0694c73",
   "metadata": {},
   "source": [
    "## Final Explorations of the Features"
   ]
  },
  {
   "cell_type": "markdown",
   "id": "c87bb09b",
   "metadata": {},
   "source": [
    "Before continuing on to preprocessing, we can look at a few of the other features for any interesting insights that might aid us in expanding or removing parts of the data."
   ]
  },
  {
   "cell_type": "code",
   "execution_count": 24,
   "id": "62666e50",
   "metadata": {},
   "outputs": [
    {
     "data": {
      "text/html": [
       "<div>\n",
       "<style scoped>\n",
       "    .dataframe tbody tr th:only-of-type {\n",
       "        vertical-align: middle;\n",
       "    }\n",
       "\n",
       "    .dataframe tbody tr th {\n",
       "        vertical-align: top;\n",
       "    }\n",
       "\n",
       "    .dataframe thead th {\n",
       "        text-align: right;\n",
       "    }\n",
       "</style>\n",
       "<table border=\"1\" class=\"dataframe\">\n",
       "  <thead>\n",
       "    <tr style=\"text-align: right;\">\n",
       "      <th></th>\n",
       "      <th>ID</th>\n",
       "      <th>Outcome</th>\n",
       "      <th>Survival.Months</th>\n",
       "      <th>Age</th>\n",
       "      <th>Grade</th>\n",
       "      <th>Num.Primaries</th>\n",
       "      <th>T</th>\n",
       "      <th>N</th>\n",
       "      <th>M</th>\n",
       "      <th>Radiation</th>\n",
       "      <th>Stage</th>\n",
       "      <th>Primary.Site</th>\n",
       "      <th>Histology</th>\n",
       "      <th>Tumor.Size</th>\n",
       "      <th>Num.Mutated.Genes</th>\n",
       "      <th>Num.Mutations</th>\n",
       "    </tr>\n",
       "  </thead>\n",
       "  <tbody>\n",
       "    <tr>\n",
       "      <th>0</th>\n",
       "      <td>1</td>\n",
       "      <td>Alive</td>\n",
       "      <td>9.0</td>\n",
       "      <td>67</td>\n",
       "      <td>4</td>\n",
       "      <td>0</td>\n",
       "      <td>UNK</td>\n",
       "      <td>2.0</td>\n",
       "      <td>NaN</td>\n",
       "      <td>0</td>\n",
       "      <td>IV</td>\n",
       "      <td>Left Lower Lobe</td>\n",
       "      <td>Squamous cell carcinoma</td>\n",
       "      <td>1.4</td>\n",
       "      <td>8</td>\n",
       "      <td>8</td>\n",
       "    </tr>\n",
       "    <tr>\n",
       "      <th>1</th>\n",
       "      <td>2</td>\n",
       "      <td>Dead</td>\n",
       "      <td>19.0</td>\n",
       "      <td>73</td>\n",
       "      <td>2</td>\n",
       "      <td>0</td>\n",
       "      <td>UNK</td>\n",
       "      <td>2.0</td>\n",
       "      <td>0.0</td>\n",
       "      <td>5</td>\n",
       "      <td>IV</td>\n",
       "      <td>Right Upper Lobe</td>\n",
       "      <td>Adenocarcinoma</td>\n",
       "      <td>NaN</td>\n",
       "      <td>2</td>\n",
       "      <td>2</td>\n",
       "    </tr>\n",
       "    <tr>\n",
       "      <th>2</th>\n",
       "      <td>3</td>\n",
       "      <td>Dead</td>\n",
       "      <td>13.0</td>\n",
       "      <td>72</td>\n",
       "      <td>3</td>\n",
       "      <td>0</td>\n",
       "      <td>2</td>\n",
       "      <td>2.0</td>\n",
       "      <td>0.0</td>\n",
       "      <td>0</td>\n",
       "      <td>IIIA</td>\n",
       "      <td>Right Upper Lobe</td>\n",
       "      <td>Adenocarcinoma</td>\n",
       "      <td>1.5</td>\n",
       "      <td>1</td>\n",
       "      <td>1</td>\n",
       "    </tr>\n",
       "    <tr>\n",
       "      <th>3</th>\n",
       "      <td>4</td>\n",
       "      <td>Dead</td>\n",
       "      <td>15.0</td>\n",
       "      <td>69</td>\n",
       "      <td>9</td>\n",
       "      <td>1</td>\n",
       "      <td>1a</td>\n",
       "      <td>0.0</td>\n",
       "      <td>1.0</td>\n",
       "      <td>0</td>\n",
       "      <td>IA</td>\n",
       "      <td>Right Upper Lobe</td>\n",
       "      <td>Adenocarcinoma</td>\n",
       "      <td>NaN</td>\n",
       "      <td>4</td>\n",
       "      <td>4</td>\n",
       "    </tr>\n",
       "    <tr>\n",
       "      <th>4</th>\n",
       "      <td>5</td>\n",
       "      <td>Dead</td>\n",
       "      <td>10.0</td>\n",
       "      <td>76</td>\n",
       "      <td>9</td>\n",
       "      <td>0</td>\n",
       "      <td>UNK</td>\n",
       "      <td>NaN</td>\n",
       "      <td>NaN</td>\n",
       "      <td>0</td>\n",
       "      <td>IIIA</td>\n",
       "      <td>Left Hilar</td>\n",
       "      <td>Large-cell carcinoma</td>\n",
       "      <td>NaN</td>\n",
       "      <td>3</td>\n",
       "      <td>3</td>\n",
       "    </tr>\n",
       "  </tbody>\n",
       "</table>\n",
       "</div>"
      ],
      "text/plain": [
       "   ID Outcome  Survival.Months  Age  Grade  Num.Primaries    T    N    M  \\\n",
       "0   1   Alive              9.0   67      4              0  UNK  2.0  NaN   \n",
       "1   2    Dead             19.0   73      2              0  UNK  2.0  0.0   \n",
       "2   3    Dead             13.0   72      3              0    2  2.0  0.0   \n",
       "3   4    Dead             15.0   69      9              1   1a  0.0  1.0   \n",
       "4   5    Dead             10.0   76      9              0  UNK  NaN  NaN   \n",
       "\n",
       "   Radiation Stage      Primary.Site                Histology  Tumor.Size  \\\n",
       "0          0    IV   Left Lower Lobe  Squamous cell carcinoma         1.4   \n",
       "1          5    IV  Right Upper Lobe           Adenocarcinoma         NaN   \n",
       "2          0  IIIA  Right Upper Lobe           Adenocarcinoma         1.5   \n",
       "3          0    IA  Right Upper Lobe           Adenocarcinoma         NaN   \n",
       "4          0  IIIA        Left Hilar     Large-cell carcinoma         NaN   \n",
       "\n",
       "   Num.Mutated.Genes  Num.Mutations  \n",
       "0                  8              8  \n",
       "1                  2              2  \n",
       "2                  1              1  \n",
       "3                  4              4  \n",
       "4                  3              3  "
      ]
     },
     "execution_count": 24,
     "metadata": {},
     "output_type": "execute_result"
    }
   ],
   "source": [
    "# calling our df back for ease of use\n",
    "clinical_df.head()"
   ]
  },
  {
   "cell_type": "markdown",
   "id": "e5303327",
   "metadata": {},
   "source": [
    "### Tumor Grade"
   ]
  },
  {
   "cell_type": "code",
   "execution_count": 25,
   "id": "75c321f1",
   "metadata": {},
   "outputs": [
    {
     "data": {
      "text/plain": [
       "[2, 3, 4, 9]"
      ]
     },
     "execution_count": 25,
     "metadata": {},
     "output_type": "execute_result"
    }
   ],
   "source": [
    "sorted(list(clinical_df['Grade'].unique()))"
   ]
  },
  {
   "cell_type": "code",
   "execution_count": 26,
   "id": "857a587c",
   "metadata": {},
   "outputs": [
    {
     "data": {
      "text/plain": [
       "9    96\n",
       "4    43\n",
       "2    29\n",
       "3    22\n",
       "Name: Grade, dtype: int64"
      ]
     },
     "execution_count": 26,
     "metadata": {},
     "output_type": "execute_result"
    }
   ],
   "source": [
    "clinical_df['Grade'].value_counts()"
   ]
  },
  {
   "cell_type": "markdown",
   "id": "4bd9a765",
   "metadata": {},
   "source": [
    "The description of the data states that the tumor grade is either 1-4 or unspecified and a quick check on [Cancer Research UK](https://www.cancerresearchuk.org/about-cancer/lung-cancer/stages-types-grades/stages-grades) confirmed this grading system. The value 9 may also be a typo and could actually be a 1, but since we cannot confirm this without seeing the original method of data collection, it might be best to drop this column."
   ]
  },
  {
   "cell_type": "markdown",
   "id": "94c302f5",
   "metadata": {},
   "source": [
    "### Age"
   ]
  },
  {
   "cell_type": "code",
   "execution_count": 27,
   "id": "f6ba52ce",
   "metadata": {},
   "outputs": [
    {
     "name": "stdout",
     "output_type": "stream",
     "text": [
      "The minimum age of all patients is 56\n",
      "The maximum age of all patients is 84\n"
     ]
    }
   ],
   "source": [
    "min_age = clinical_df['Age'].min()\n",
    "max_age = clinical_df['Age'].max()\n",
    "print(f\"The minimum age of all patients is {min_age}\")\n",
    "print(f\"The maximum age of all patients is {max_age}\")"
   ]
  },
  {
   "cell_type": "code",
   "execution_count": 28,
   "id": "42159a9f",
   "metadata": {},
   "outputs": [
    {
     "data": {
      "text/plain": [
       "0"
      ]
     },
     "execution_count": 28,
     "metadata": {},
     "output_type": "execute_result"
    }
   ],
   "source": [
    "clinical_df['Age'].isnull().sum()"
   ]
  },
  {
   "cell_type": "markdown",
   "id": "27d1730a",
   "metadata": {},
   "source": [
    "Should I have more time with this analysis, it would be good to see a plot of the survival rate across different age ranges. For now, there are no outstanding outliers or null values here."
   ]
  },
  {
   "cell_type": "markdown",
   "id": "3a64bcbb",
   "metadata": {},
   "source": [
    "### Number of Primary Tumors"
   ]
  },
  {
   "cell_type": "code",
   "execution_count": 29,
   "id": "c1e53b20",
   "metadata": {},
   "outputs": [
    {
     "data": {
      "text/plain": [
       "[0, 1]"
      ]
     },
     "execution_count": 29,
     "metadata": {},
     "output_type": "execute_result"
    }
   ],
   "source": [
    "# unique values in the number of primaries column\n",
    "list(clinical_df['Num.Primaries'].unique())"
   ]
  },
  {
   "cell_type": "markdown",
   "id": "f4fb7bc0",
   "metadata": {},
   "source": [
    "Again, here would be a good chance to see if the number of primary tumors affects survival rate given more time, but since the values aren't too complex, we will assume it has little negative effect on the final model."
   ]
  },
  {
   "cell_type": "markdown",
   "id": "5a320b4a",
   "metadata": {},
   "source": [
    "### (T) Tumor Stage | (N) Num of Metastasis to Lymph Nodes | (M) Num of Distant Metastases"
   ]
  },
  {
   "cell_type": "markdown",
   "id": "3920917a",
   "metadata": {},
   "source": [
    "We can explore the TNM system (as explained [here](https://www.cancer.org/treatment/understanding-your-diagnosis/staging.html) for someone with no prior experience with this terminology)."
   ]
  },
  {
   "cell_type": "code",
   "execution_count": 30,
   "id": "dbca2f7c",
   "metadata": {},
   "outputs": [
    {
     "data": {
      "text/plain": [
       "['1', '1a', '1b', '2', '2a', '2b', '3', '4', 'UNK']"
      ]
     },
     "execution_count": 30,
     "metadata": {},
     "output_type": "execute_result"
    }
   ],
   "source": [
    "T_lst = sorted(list(clinical_df['T'].unique()))\n",
    "T_lst"
   ]
  },
  {
   "cell_type": "code",
   "execution_count": 31,
   "id": "c9b616b0",
   "metadata": {},
   "outputs": [
    {
     "data": {
      "text/plain": [
       "UNK    62\n",
       "3      38\n",
       "1a     26\n",
       "4      23\n",
       "2a     16\n",
       "2      12\n",
       "2b     10\n",
       "1b      2\n",
       "1       1\n",
       "Name: T, dtype: int64"
      ]
     },
     "execution_count": 31,
     "metadata": {},
     "output_type": "execute_result"
    }
   ],
   "source": [
    "clinical_df['T'].value_counts()"
   ]
  },
  {
   "cell_type": "markdown",
   "id": "2d639470",
   "metadata": {},
   "source": [
    "Since the actual values of the (T) tumor stage can be assumed to not only be relevant but also the size of the value can be assumed to have an impact on whether or not to classify a patient's outcome, we can make these values into integers according to their ordering (as long as they're ordered the value itself does not need to pertain to the value it currently holds since we will most likely scale these values so they're better interpreted by the final ML algorithm.\n",
    "\n",
    "For the unknown values, we can assign them the mean of the dataset. For the values such as '1a' or '2b' we can cluster them with the integer value already associated with them. \n",
    "\n",
    "A future analysis might see that we plot these tumor stage classifications against their survival rate and assign the average survival rate for each classification as the value that it takes."
   ]
  },
  {
   "cell_type": "code",
   "execution_count": 32,
   "id": "7cc1a094",
   "metadata": {},
   "outputs": [
    {
     "data": {
      "text/plain": [
       "[0.0, 2.0, nan, 1.0, 3.0]"
      ]
     },
     "execution_count": 32,
     "metadata": {},
     "output_type": "execute_result"
    }
   ],
   "source": [
    "N_list = sorted(list(clinical_df['N'].unique()))\n",
    "N_list"
   ]
  },
  {
   "cell_type": "code",
   "execution_count": 33,
   "id": "2a5b3891",
   "metadata": {
    "scrolled": true
   },
   "outputs": [
    {
     "name": "stdout",
     "output_type": "stream",
     "text": [
      "Type: <class 'numpy.float64'>\n",
      "Type: <class 'numpy.float64'>\n",
      "Type: <class 'numpy.float64'>\n",
      "Type: <class 'numpy.float64'>\n",
      "Type: <class 'numpy.float64'>\n"
     ]
    }
   ],
   "source": [
    "# checking the type for each N classification\n",
    "for n in N_list:\n",
    "    print(f\"Type: {type(n)}\")"
   ]
  },
  {
   "cell_type": "code",
   "execution_count": 34,
   "id": "624e8fda",
   "metadata": {},
   "outputs": [
    {
     "data": {
      "text/plain": [
       "2.0    58\n",
       "0.0    52\n",
       "1.0     9\n",
       "3.0     6\n",
       "Name: N, dtype: int64"
      ]
     },
     "execution_count": 34,
     "metadata": {},
     "output_type": "execute_result"
    }
   ],
   "source": [
    "clinical_df['N'].value_counts()"
   ]
  },
  {
   "cell_type": "markdown",
   "id": "3e05904c",
   "metadata": {},
   "source": [
    "We can perform the same operations on the 'N' column as the 'T' column by assigning the null values to be the mean of the non-null values.\n",
    "\n",
    "This would be a great opportunity to consult a domain expert in order to better determine how to classify null values here. For example, should this domain expert inform us that there is a correlation between N and T and/or M, then we could use the classification of the other features to classify this feature. Naturally, the same can be said of the other two features. Lastly, should there be a correlation, we could build a simple model that can predict the value of the missing feature using the other two features rather than simply using methods to fill null values such as the mean or median."
   ]
  },
  {
   "cell_type": "code",
   "execution_count": 35,
   "id": "13426964",
   "metadata": {},
   "outputs": [
    {
     "data": {
      "text/plain": [
       "[nan, 0.0, 1.0]"
      ]
     },
     "execution_count": 35,
     "metadata": {},
     "output_type": "execute_result"
    }
   ],
   "source": [
    "M_list = sorted(list(clinical_df['M'].unique()))\n",
    "M_list"
   ]
  },
  {
   "cell_type": "code",
   "execution_count": 36,
   "id": "93cad3e8",
   "metadata": {},
   "outputs": [
    {
     "data": {
      "text/plain": [
       "0.0    86\n",
       "1.0     8\n",
       "Name: M, dtype: int64"
      ]
     },
     "execution_count": 36,
     "metadata": {},
     "output_type": "execute_result"
    }
   ],
   "source": [
    "clinical_df['M'].value_counts()"
   ]
  },
  {
   "cell_type": "code",
   "execution_count": 37,
   "id": "9ad441cc",
   "metadata": {},
   "outputs": [
    {
     "name": "stdout",
     "output_type": "stream",
     "text": [
      "Rate of survival when distant cancer spread is present: 0.25\n",
      "Rate of survival when distant cancer spread is present: 0.23\n"
     ]
    }
   ],
   "source": [
    "M1_df = clinical_df[clinical_df['M'] == 1.0]\n",
    "M1_rate = \"{:.2f}\".format(len(M1_df[M1_df['Outcome'] == 'Alive']) / len(M1_df))\n",
    "print(f\"Rate of survival when distant cancer spread is present: {M1_rate}\")\n",
    "\n",
    "M0_df = clinical_df[clinical_df['M'] == 0.0]\n",
    "M0_rate = \"{:.2f}\".format(len(M0_df[M0_df['Outcome'] == 'Alive']) / len(M0_df))\n",
    "print(f\"Rate of survival when distant cancer spread is present: {M0_rate}\")"
   ]
  },
  {
   "cell_type": "markdown",
   "id": "37a4956b",
   "metadata": {},
   "source": [
    "Since the data is already relatively sparse, especially for the classification of the presence of distant cancer, there are more null values than not, and the survival rate difference between the two classes is relatively small we can go ahead and drop this column in preprocessing."
   ]
  },
  {
   "cell_type": "markdown",
   "id": "6f5a05fc",
   "metadata": {},
   "source": [
    "### Stage | Primary Site | Histology | Tumor Size"
   ]
  },
  {
   "cell_type": "code",
   "execution_count": 38,
   "id": "93fd5ce0",
   "metadata": {},
   "outputs": [
    {
     "data": {
      "text/plain": [
       "['IV', 'IIIA', 'IA', 'IVB', 'IIA', 'IIIB', 'IIB', 'IB', '1B']"
      ]
     },
     "execution_count": 38,
     "metadata": {},
     "output_type": "execute_result"
    }
   ],
   "source": [
    "cancer_stage_lst = list(clinical_df['Stage'].unique())\n",
    "cancer_stage_lst"
   ]
  },
  {
   "cell_type": "markdown",
   "id": "8f168e08",
   "metadata": {},
   "source": [
    "Similar to the analysis of the tumor stage, we can assign each value here according to the number already associated with it and for now ignore the letters attached to the stage during preprocessing."
   ]
  },
  {
   "cell_type": "code",
   "execution_count": 39,
   "id": "3e3ce032",
   "metadata": {},
   "outputs": [
    {
     "data": {
      "text/plain": [
       "['Left Lower Lobe',\n",
       " 'Right Upper Lobe',\n",
       " 'Left Hilar',\n",
       " 'Right Hilar',\n",
       " 'Left Upper Lobe',\n",
       " 'Right Lower Lobe',\n",
       " 'Both Lung',\n",
       " 'Right Middle Lobe',\n",
       " 'Righ Upper Lobe']"
      ]
     },
     "execution_count": 39,
     "metadata": {},
     "output_type": "execute_result"
    }
   ],
   "source": [
    "prim_site_lst = list(clinical_df['Primary.Site'].unique())\n",
    "prim_site_lst"
   ]
  },
  {
   "cell_type": "code",
   "execution_count": 40,
   "id": "309e03bf",
   "metadata": {},
   "outputs": [
    {
     "data": {
      "text/plain": [
       "Right Upper Lobe     53\n",
       "Right Hilar          33\n",
       "Left Hilar           31\n",
       "Right Lower Lobe     25\n",
       "Left Upper Lobe      21\n",
       "Left Lower Lobe      17\n",
       "Both Lung             5\n",
       "Right Middle Lobe     3\n",
       "Righ Upper Lobe       2\n",
       "Name: Primary.Site, dtype: int64"
      ]
     },
     "execution_count": 40,
     "metadata": {},
     "output_type": "execute_result"
    }
   ],
   "source": [
    "clinical_df['Primary.Site'].value_counts()"
   ]
  },
  {
   "cell_type": "code",
   "execution_count": 41,
   "id": "f2253b80",
   "metadata": {},
   "outputs": [
    {
     "name": "stdout",
     "output_type": "stream",
     "text": [
      "Rate of survival when cancer is present in both lungs: 0.00\n",
      "\tNumber of patients with cancer in both lungs: 5\n",
      "Rate of survival when cancer is present in only one lung: 0.22\n",
      "\tNumber of patients with cancer in just one lung: 185\n"
     ]
    }
   ],
   "source": [
    "both_lung_df = clinical_df[clinical_df['Primary.Site'] == 'Both Lung']\n",
    "both_lung_rate = \"{:.2f}\".format(len(both_lung_df[both_lung_df['Outcome'] == 'Alive']) / len(both_lung_df))\n",
    "print(f\"Rate of survival when cancer is present in both lungs: {both_lung_rate}\")\n",
    "print(f\"\\tNumber of patients with cancer in both lungs: {len(both_lung_df)}\")\n",
    "\n",
    "one_lung_df = clinical_df[clinical_df['Primary.Site'] != 'Both Lung']\n",
    "one_lung_rate = \"{:.2f}\".format(len(one_lung_df[one_lung_df['Outcome'] == 'Alive']) / len(one_lung_df))\n",
    "print(f\"Rate of survival when cancer is present in only one lung: {one_lung_rate}\")\n",
    "print(f\"\\tNumber of patients with cancer in just one lung: {len(one_lung_df)}\")"
   ]
  },
  {
   "cell_type": "markdown",
   "id": "5cf6f56f",
   "metadata": {},
   "source": [
    "Although the sample size is low, we can make an assumption for now that having cancer present in both lungs will not result in a favorable outcome for the patient."
   ]
  },
  {
   "cell_type": "markdown",
   "id": "6b543d6f",
   "metadata": {},
   "source": [
    "Given more time and potentially more data, I would be curious to see the survival rates of the different sites where the cancer is present. Should there be a significant difference, it could be worth the time to create unique columns for each site and a flag whether this is a primary site or not."
   ]
  },
  {
   "cell_type": "code",
   "execution_count": 42,
   "id": "c0f20921",
   "metadata": {},
   "outputs": [
    {
     "data": {
      "text/plain": [
       "['Squamous cell carcinoma', 'Adenocarcinoma', 'Large-cell carcinoma']"
      ]
     },
     "execution_count": 42,
     "metadata": {},
     "output_type": "execute_result"
    }
   ],
   "source": [
    "hist_lst = list(clinical_df['Histology'].unique())\n",
    "hist_lst"
   ]
  },
  {
   "cell_type": "code",
   "execution_count": 43,
   "id": "0197b066",
   "metadata": {},
   "outputs": [
    {
     "data": {
      "text/plain": [
       "Adenocarcinoma             86\n",
       "Squamous cell carcinoma    77\n",
       "Large-cell carcinoma       27\n",
       "Name: Histology, dtype: int64"
      ]
     },
     "execution_count": 43,
     "metadata": {},
     "output_type": "execute_result"
    }
   ],
   "source": [
    "clinical_df['Histology'].value_counts()"
   ]
  },
  {
   "cell_type": "markdown",
   "id": "8d559277",
   "metadata": {},
   "source": [
    "Since this feature is categorical, we can one-hot encode it."
   ]
  },
  {
   "cell_type": "code",
   "execution_count": 44,
   "id": "dd996509",
   "metadata": {},
   "outputs": [
    {
     "data": {
      "text/plain": [
       "[1.4,\n",
       " nan,\n",
       " 1.0,\n",
       " 1.5,\n",
       " 1.6,\n",
       " 1.8,\n",
       " 1.9,\n",
       " 2.0,\n",
       " 2.5,\n",
       " 3.5,\n",
       " 3.6,\n",
       " 4.0,\n",
       " 4.4,\n",
       " 5.3,\n",
       " 5.4,\n",
       " 5.5,\n",
       " 8.0,\n",
       " 8.5,\n",
       " 9.0,\n",
       " 10.0]"
      ]
     },
     "execution_count": 44,
     "metadata": {},
     "output_type": "execute_result"
    }
   ],
   "source": [
    "tum_size_lst = sorted(list(clinical_df['Tumor.Size'].unique()))\n",
    "tum_size_lst"
   ]
  },
  {
   "cell_type": "code",
   "execution_count": 45,
   "id": "9a998afb",
   "metadata": {},
   "outputs": [
    {
     "data": {
      "text/plain": [
       "98"
      ]
     },
     "execution_count": 45,
     "metadata": {},
     "output_type": "execute_result"
    }
   ],
   "source": [
    "clinical_df['Tumor.Size'].value_counts().sum()"
   ]
  },
  {
   "cell_type": "markdown",
   "id": "60861b55",
   "metadata": {},
   "source": [
    "For the tumor size feature, we can take the mean and assign this to all the null values."
   ]
  },
  {
   "cell_type": "markdown",
   "id": "c93350f1",
   "metadata": {},
   "source": [
    "# PREPROCESSING"
   ]
  },
  {
   "cell_type": "code",
   "execution_count": 46,
   "id": "735c7029",
   "metadata": {},
   "outputs": [
    {
     "data": {
      "text/html": [
       "<div>\n",
       "<style scoped>\n",
       "    .dataframe tbody tr th:only-of-type {\n",
       "        vertical-align: middle;\n",
       "    }\n",
       "\n",
       "    .dataframe tbody tr th {\n",
       "        vertical-align: top;\n",
       "    }\n",
       "\n",
       "    .dataframe thead th {\n",
       "        text-align: right;\n",
       "    }\n",
       "</style>\n",
       "<table border=\"1\" class=\"dataframe\">\n",
       "  <thead>\n",
       "    <tr style=\"text-align: right;\">\n",
       "      <th></th>\n",
       "      <th>ID</th>\n",
       "      <th>Outcome</th>\n",
       "      <th>Survival.Months</th>\n",
       "      <th>Age</th>\n",
       "      <th>Grade</th>\n",
       "      <th>Num.Primaries</th>\n",
       "      <th>T</th>\n",
       "      <th>N</th>\n",
       "      <th>M</th>\n",
       "      <th>Radiation</th>\n",
       "      <th>Stage</th>\n",
       "      <th>Primary.Site</th>\n",
       "      <th>Histology</th>\n",
       "      <th>Tumor.Size</th>\n",
       "      <th>Num.Mutated.Genes</th>\n",
       "      <th>Num.Mutations</th>\n",
       "    </tr>\n",
       "  </thead>\n",
       "  <tbody>\n",
       "    <tr>\n",
       "      <th>0</th>\n",
       "      <td>1</td>\n",
       "      <td>Alive</td>\n",
       "      <td>9.0</td>\n",
       "      <td>67</td>\n",
       "      <td>4</td>\n",
       "      <td>0</td>\n",
       "      <td>UNK</td>\n",
       "      <td>2.0</td>\n",
       "      <td>NaN</td>\n",
       "      <td>0</td>\n",
       "      <td>IV</td>\n",
       "      <td>Left Lower Lobe</td>\n",
       "      <td>Squamous cell carcinoma</td>\n",
       "      <td>1.4</td>\n",
       "      <td>8</td>\n",
       "      <td>8</td>\n",
       "    </tr>\n",
       "    <tr>\n",
       "      <th>1</th>\n",
       "      <td>2</td>\n",
       "      <td>Dead</td>\n",
       "      <td>19.0</td>\n",
       "      <td>73</td>\n",
       "      <td>2</td>\n",
       "      <td>0</td>\n",
       "      <td>UNK</td>\n",
       "      <td>2.0</td>\n",
       "      <td>0.0</td>\n",
       "      <td>5</td>\n",
       "      <td>IV</td>\n",
       "      <td>Right Upper Lobe</td>\n",
       "      <td>Adenocarcinoma</td>\n",
       "      <td>NaN</td>\n",
       "      <td>2</td>\n",
       "      <td>2</td>\n",
       "    </tr>\n",
       "    <tr>\n",
       "      <th>2</th>\n",
       "      <td>3</td>\n",
       "      <td>Dead</td>\n",
       "      <td>13.0</td>\n",
       "      <td>72</td>\n",
       "      <td>3</td>\n",
       "      <td>0</td>\n",
       "      <td>2</td>\n",
       "      <td>2.0</td>\n",
       "      <td>0.0</td>\n",
       "      <td>0</td>\n",
       "      <td>IIIA</td>\n",
       "      <td>Right Upper Lobe</td>\n",
       "      <td>Adenocarcinoma</td>\n",
       "      <td>1.5</td>\n",
       "      <td>1</td>\n",
       "      <td>1</td>\n",
       "    </tr>\n",
       "    <tr>\n",
       "      <th>3</th>\n",
       "      <td>4</td>\n",
       "      <td>Dead</td>\n",
       "      <td>15.0</td>\n",
       "      <td>69</td>\n",
       "      <td>9</td>\n",
       "      <td>1</td>\n",
       "      <td>1a</td>\n",
       "      <td>0.0</td>\n",
       "      <td>1.0</td>\n",
       "      <td>0</td>\n",
       "      <td>IA</td>\n",
       "      <td>Right Upper Lobe</td>\n",
       "      <td>Adenocarcinoma</td>\n",
       "      <td>NaN</td>\n",
       "      <td>4</td>\n",
       "      <td>4</td>\n",
       "    </tr>\n",
       "    <tr>\n",
       "      <th>4</th>\n",
       "      <td>5</td>\n",
       "      <td>Dead</td>\n",
       "      <td>10.0</td>\n",
       "      <td>76</td>\n",
       "      <td>9</td>\n",
       "      <td>0</td>\n",
       "      <td>UNK</td>\n",
       "      <td>NaN</td>\n",
       "      <td>NaN</td>\n",
       "      <td>0</td>\n",
       "      <td>IIIA</td>\n",
       "      <td>Left Hilar</td>\n",
       "      <td>Large-cell carcinoma</td>\n",
       "      <td>NaN</td>\n",
       "      <td>3</td>\n",
       "      <td>3</td>\n",
       "    </tr>\n",
       "  </tbody>\n",
       "</table>\n",
       "</div>"
      ],
      "text/plain": [
       "   ID Outcome  Survival.Months  Age  Grade  Num.Primaries    T    N    M  \\\n",
       "0   1   Alive              9.0   67      4              0  UNK  2.0  NaN   \n",
       "1   2    Dead             19.0   73      2              0  UNK  2.0  0.0   \n",
       "2   3    Dead             13.0   72      3              0    2  2.0  0.0   \n",
       "3   4    Dead             15.0   69      9              1   1a  0.0  1.0   \n",
       "4   5    Dead             10.0   76      9              0  UNK  NaN  NaN   \n",
       "\n",
       "   Radiation Stage      Primary.Site                Histology  Tumor.Size  \\\n",
       "0          0    IV   Left Lower Lobe  Squamous cell carcinoma         1.4   \n",
       "1          5    IV  Right Upper Lobe           Adenocarcinoma         NaN   \n",
       "2          0  IIIA  Right Upper Lobe           Adenocarcinoma         1.5   \n",
       "3          0    IA  Right Upper Lobe           Adenocarcinoma         NaN   \n",
       "4          0  IIIA        Left Hilar     Large-cell carcinoma         NaN   \n",
       "\n",
       "   Num.Mutated.Genes  Num.Mutations  \n",
       "0                  8              8  \n",
       "1                  2              2  \n",
       "2                  1              1  \n",
       "3                  4              4  \n",
       "4                  3              3  "
      ]
     },
     "execution_count": 46,
     "metadata": {},
     "output_type": "execute_result"
    }
   ],
   "source": [
    "data = clinical_df.copy()\n",
    "\n",
    "data.head()"
   ]
  },
  {
   "cell_type": "code",
   "execution_count": 47,
   "id": "217704c6",
   "metadata": {},
   "outputs": [],
   "source": [
    "data = data.drop(columns=['Grade','M'])"
   ]
  },
  {
   "cell_type": "code",
   "execution_count": 48,
   "id": "8df0e615",
   "metadata": {},
   "outputs": [],
   "source": [
    "data = data.reset_index()\n",
    "new_T = []\n",
    "new_N = []\n",
    "new_Stage = []\n",
    "new_Radiation = []\n",
    "new_PrimarySite = []\n",
    "new_TumorSize = []\n",
    "\n",
    "N_mean = \"{:.2f}\".format(data['N'].mean())\n",
    "TumorSize_mean = \"{:.2f}\".format(data['Tumor.Size'].mean())\n",
    "\n",
    "for index, row in data.iterrows():\n",
    "    # converting non-null values to integers in T\n",
    "    if (row['T'] != 'UNK'):\n",
    "        new_T.append(int(row['T'][0]))\n",
    "    else:\n",
    "        new_T.append(row['T'])\n",
    "        \n",
    "    # converting non-null values to the mean in N\n",
    "    if (math.isnan(row['N'])):\n",
    "        new_N.append(N_mean)\n",
    "    else:\n",
    "        new_N.append(row['N'])\n",
    "        \n",
    "    # creating bool flag for radiation\n",
    "    if (row['Radiation'] == 5):\n",
    "        new_Radiation.append(1)\n",
    "    else:\n",
    "        new_Radiation.append(0)\n",
    "    \n",
    "    # creating a bool flag for cancer in one or two lungs\n",
    "    if (row['Primary.Site'] == 'Both Lung'):\n",
    "        new_PrimarySite.append(1)\n",
    "    else:\n",
    "        new_PrimarySite.append(0)\n",
    "    \n",
    "    # setting all null values to mean for tumor size\n",
    "    if (math.isnan(row['Tumor.Size'])):\n",
    "        new_TumorSize.append(TumorSize_mean)\n",
    "    else:\n",
    "        new_TumorSize.append(row['Tumor.Size'])\n",
    "    \n",
    "    # converting cancer stages to numeric values\n",
    "    if (row['Stage'] in ['IA','IB','1B']):\n",
    "        new_Stage.append(1)\n",
    "    elif (row['Stage'] in ['IIA','IIB']):\n",
    "        new_Stage.append(2)\n",
    "    elif (row['Stage'] in ['IIIA','IIIB']):\n",
    "        new_Stage.append(3)\n",
    "    elif (row['Stage'] in ['IV','IVB']):\n",
    "        new_Stage.append(4)"
   ]
  },
  {
   "cell_type": "code",
   "execution_count": 49,
   "id": "df3614ad",
   "metadata": {},
   "outputs": [],
   "source": [
    "# reiterating and filling the null values with the T_mean\n",
    "T_mean = \"{:.2f}\".format(mean(val for val in new_T if val != 'UNK'))\n",
    "\n",
    "for i in range(len(new_T)):\n",
    "    if (new_T[i] == 'UNK'):\n",
    "        new_T[i] = T_mean"
   ]
  },
  {
   "cell_type": "code",
   "execution_count": 50,
   "id": "e90da9fd",
   "metadata": {},
   "outputs": [],
   "source": [
    "# assigning the cleaned columns to the dataframe\n",
    "data['T'] = new_T\n",
    "data['N'] = new_N\n",
    "data['Stage'] = new_Stage\n",
    "data['Radiation'] = new_Radiation\n",
    "data['Both Lungs'] = new_PrimarySite\n",
    "data['Tumor Size'] = new_TumorSize"
   ]
  },
  {
   "cell_type": "code",
   "execution_count": 51,
   "id": "1fe025b2",
   "metadata": {},
   "outputs": [],
   "source": [
    "data = data.drop(columns=['index','Primary.Site','Tumor.Size'])"
   ]
  },
  {
   "cell_type": "code",
   "execution_count": 52,
   "id": "29f696b5",
   "metadata": {
    "scrolled": true
   },
   "outputs": [
    {
     "data": {
      "text/html": [
       "<div>\n",
       "<style scoped>\n",
       "    .dataframe tbody tr th:only-of-type {\n",
       "        vertical-align: middle;\n",
       "    }\n",
       "\n",
       "    .dataframe tbody tr th {\n",
       "        vertical-align: top;\n",
       "    }\n",
       "\n",
       "    .dataframe thead th {\n",
       "        text-align: right;\n",
       "    }\n",
       "</style>\n",
       "<table border=\"1\" class=\"dataframe\">\n",
       "  <thead>\n",
       "    <tr style=\"text-align: right;\">\n",
       "      <th></th>\n",
       "      <th>ID</th>\n",
       "      <th>Outcome</th>\n",
       "      <th>Survival.Months</th>\n",
       "      <th>Age</th>\n",
       "      <th>Num.Primaries</th>\n",
       "      <th>T</th>\n",
       "      <th>N</th>\n",
       "      <th>Radiation</th>\n",
       "      <th>Stage</th>\n",
       "      <th>Num.Mutated.Genes</th>\n",
       "      <th>Num.Mutations</th>\n",
       "      <th>Both Lungs</th>\n",
       "      <th>Tumor Size</th>\n",
       "      <th>Adenocarcinoma</th>\n",
       "      <th>Large-cell carcinoma</th>\n",
       "      <th>Squamous cell carcinoma</th>\n",
       "    </tr>\n",
       "  </thead>\n",
       "  <tbody>\n",
       "    <tr>\n",
       "      <th>0</th>\n",
       "      <td>1</td>\n",
       "      <td>Alive</td>\n",
       "      <td>9.0</td>\n",
       "      <td>67</td>\n",
       "      <td>0</td>\n",
       "      <td>2.43</td>\n",
       "      <td>2.0</td>\n",
       "      <td>0</td>\n",
       "      <td>4</td>\n",
       "      <td>8</td>\n",
       "      <td>8</td>\n",
       "      <td>0</td>\n",
       "      <td>1.4</td>\n",
       "      <td>0</td>\n",
       "      <td>0</td>\n",
       "      <td>1</td>\n",
       "    </tr>\n",
       "    <tr>\n",
       "      <th>1</th>\n",
       "      <td>2</td>\n",
       "      <td>Dead</td>\n",
       "      <td>19.0</td>\n",
       "      <td>73</td>\n",
       "      <td>0</td>\n",
       "      <td>2.43</td>\n",
       "      <td>2.0</td>\n",
       "      <td>1</td>\n",
       "      <td>4</td>\n",
       "      <td>2</td>\n",
       "      <td>2</td>\n",
       "      <td>0</td>\n",
       "      <td>4.49</td>\n",
       "      <td>1</td>\n",
       "      <td>0</td>\n",
       "      <td>0</td>\n",
       "    </tr>\n",
       "    <tr>\n",
       "      <th>2</th>\n",
       "      <td>3</td>\n",
       "      <td>Dead</td>\n",
       "      <td>13.0</td>\n",
       "      <td>72</td>\n",
       "      <td>0</td>\n",
       "      <td>2</td>\n",
       "      <td>2.0</td>\n",
       "      <td>0</td>\n",
       "      <td>3</td>\n",
       "      <td>1</td>\n",
       "      <td>1</td>\n",
       "      <td>0</td>\n",
       "      <td>1.5</td>\n",
       "      <td>1</td>\n",
       "      <td>0</td>\n",
       "      <td>0</td>\n",
       "    </tr>\n",
       "    <tr>\n",
       "      <th>3</th>\n",
       "      <td>4</td>\n",
       "      <td>Dead</td>\n",
       "      <td>15.0</td>\n",
       "      <td>69</td>\n",
       "      <td>1</td>\n",
       "      <td>1</td>\n",
       "      <td>0.0</td>\n",
       "      <td>0</td>\n",
       "      <td>1</td>\n",
       "      <td>4</td>\n",
       "      <td>4</td>\n",
       "      <td>0</td>\n",
       "      <td>4.49</td>\n",
       "      <td>1</td>\n",
       "      <td>0</td>\n",
       "      <td>0</td>\n",
       "    </tr>\n",
       "    <tr>\n",
       "      <th>4</th>\n",
       "      <td>5</td>\n",
       "      <td>Dead</td>\n",
       "      <td>10.0</td>\n",
       "      <td>76</td>\n",
       "      <td>0</td>\n",
       "      <td>2.43</td>\n",
       "      <td>1.14</td>\n",
       "      <td>0</td>\n",
       "      <td>3</td>\n",
       "      <td>3</td>\n",
       "      <td>3</td>\n",
       "      <td>0</td>\n",
       "      <td>4.49</td>\n",
       "      <td>0</td>\n",
       "      <td>1</td>\n",
       "      <td>0</td>\n",
       "    </tr>\n",
       "  </tbody>\n",
       "</table>\n",
       "</div>"
      ],
      "text/plain": [
       "   ID Outcome  Survival.Months  Age  Num.Primaries     T     N  Radiation  \\\n",
       "0   1   Alive              9.0   67              0  2.43   2.0          0   \n",
       "1   2    Dead             19.0   73              0  2.43   2.0          1   \n",
       "2   3    Dead             13.0   72              0     2   2.0          0   \n",
       "3   4    Dead             15.0   69              1     1   0.0          0   \n",
       "4   5    Dead             10.0   76              0  2.43  1.14          0   \n",
       "\n",
       "   Stage  Num.Mutated.Genes  Num.Mutations  Both Lungs Tumor Size  \\\n",
       "0      4                  8              8           0        1.4   \n",
       "1      4                  2              2           0       4.49   \n",
       "2      3                  1              1           0        1.5   \n",
       "3      1                  4              4           0       4.49   \n",
       "4      3                  3              3           0       4.49   \n",
       "\n",
       "   Adenocarcinoma  Large-cell carcinoma  Squamous cell carcinoma  \n",
       "0               0                     0                        1  \n",
       "1               1                     0                        0  \n",
       "2               1                     0                        0  \n",
       "3               1                     0                        0  \n",
       "4               0                     1                        0  "
      ]
     },
     "execution_count": 52,
     "metadata": {},
     "output_type": "execute_result"
    }
   ],
   "source": [
    "onehot_hist = pd.get_dummies(data['Histology'])\n",
    "data = data.drop(columns=['Histology'])\n",
    "data = data.join(onehot_hist)\n",
    "\n",
    "data.head()"
   ]
  },
  {
   "cell_type": "code",
   "execution_count": 53,
   "id": "f749ab4e",
   "metadata": {},
   "outputs": [
    {
     "data": {
      "text/html": [
       "<div>\n",
       "<style scoped>\n",
       "    .dataframe tbody tr th:only-of-type {\n",
       "        vertical-align: middle;\n",
       "    }\n",
       "\n",
       "    .dataframe tbody tr th {\n",
       "        vertical-align: top;\n",
       "    }\n",
       "\n",
       "    .dataframe thead th {\n",
       "        text-align: right;\n",
       "    }\n",
       "</style>\n",
       "<table border=\"1\" class=\"dataframe\">\n",
       "  <thead>\n",
       "    <tr style=\"text-align: right;\">\n",
       "      <th></th>\n",
       "      <th>Gene</th>\n",
       "      <th>Number of Patients</th>\n",
       "      <th>Survival Rate</th>\n",
       "    </tr>\n",
       "  </thead>\n",
       "  <tbody>\n",
       "    <tr>\n",
       "      <th>4</th>\n",
       "      <td>KRAS_Col1</td>\n",
       "      <td>55</td>\n",
       "      <td>0.24</td>\n",
       "    </tr>\n",
       "    <tr>\n",
       "      <th>6</th>\n",
       "      <td>STK11</td>\n",
       "      <td>23</td>\n",
       "      <td>0.17</td>\n",
       "    </tr>\n",
       "    <tr>\n",
       "      <th>7</th>\n",
       "      <td>TSC2</td>\n",
       "      <td>31</td>\n",
       "      <td>0.10</td>\n",
       "    </tr>\n",
       "    <tr>\n",
       "      <th>9</th>\n",
       "      <td>TP53_Col1</td>\n",
       "      <td>117</td>\n",
       "      <td>0.26</td>\n",
       "    </tr>\n",
       "    <tr>\n",
       "      <th>10</th>\n",
       "      <td>CDKN2A</td>\n",
       "      <td>45</td>\n",
       "      <td>0.07</td>\n",
       "    </tr>\n",
       "    <tr>\n",
       "      <th>14</th>\n",
       "      <td>MSH2</td>\n",
       "      <td>30</td>\n",
       "      <td>0.03</td>\n",
       "    </tr>\n",
       "  </tbody>\n",
       "</table>\n",
       "</div>"
      ],
      "text/plain": [
       "         Gene  Number of Patients Survival Rate\n",
       "4   KRAS_Col1                  55          0.24\n",
       "6       STK11                  23          0.17\n",
       "7        TSC2                  31          0.10\n",
       "9   TP53_Col1                 117          0.26\n",
       "10     CDKN2A                  45          0.07\n",
       "14       MSH2                  30          0.03"
      ]
     },
     "execution_count": 53,
     "metadata": {},
     "output_type": "execute_result"
    }
   ],
   "source": [
    "clean_gene_survival_df"
   ]
  },
  {
   "cell_type": "code",
   "execution_count": 54,
   "id": "7f1c525d",
   "metadata": {},
   "outputs": [],
   "source": [
    "KRAS_Col1 = []\n",
    "STK11     = []\n",
    "TSC2      = []\n",
    "TP53_Col1 = []\n",
    "CDKN2A    = []\n",
    "MSH2      = []\n",
    "\n",
    "gene_lst = [KRAS_Col1, STK11, TSC2, TP53_Col1, CDKN2A, MSH2]\n",
    "gene_str_lst = ['KRAS_Col1', 'STK11', 'TSC2', 'TP53_Col1', 'CDKN2A', 'MSH2']"
   ]
  },
  {
   "cell_type": "code",
   "execution_count": 55,
   "id": "4151abea",
   "metadata": {},
   "outputs": [],
   "source": [
    "for index_2, row_2 in data.iterrows():\n",
    "    for gene,gene_str in zip(gene_lst,gene_str_lst):\n",
    "        gene_df = genomic_df[genomic_df['Gene'] == gene_str]\n",
    "\n",
    "        if row_2['ID'] in gene_df['ID'].values:\n",
    "            gene.append(1)\n",
    "        else:\n",
    "            gene.append(0)"
   ]
  },
  {
   "cell_type": "code",
   "execution_count": 56,
   "id": "905b27fa",
   "metadata": {},
   "outputs": [],
   "source": [
    "for col_name, col in zip(gene_str_lst,gene_lst):\n",
    "    data[col_name] = col"
   ]
  },
  {
   "cell_type": "code",
   "execution_count": 57,
   "id": "274c4046",
   "metadata": {
    "scrolled": false
   },
   "outputs": [
    {
     "data": {
      "text/html": [
       "<div>\n",
       "<style scoped>\n",
       "    .dataframe tbody tr th:only-of-type {\n",
       "        vertical-align: middle;\n",
       "    }\n",
       "\n",
       "    .dataframe tbody tr th {\n",
       "        vertical-align: top;\n",
       "    }\n",
       "\n",
       "    .dataframe thead th {\n",
       "        text-align: right;\n",
       "    }\n",
       "</style>\n",
       "<table border=\"1\" class=\"dataframe\">\n",
       "  <thead>\n",
       "    <tr style=\"text-align: right;\">\n",
       "      <th></th>\n",
       "      <th>ID</th>\n",
       "      <th>Outcome</th>\n",
       "      <th>Survival.Months</th>\n",
       "      <th>Age</th>\n",
       "      <th>Num.Primaries</th>\n",
       "      <th>T</th>\n",
       "      <th>N</th>\n",
       "      <th>Radiation</th>\n",
       "      <th>Stage</th>\n",
       "      <th>Num.Mutated.Genes</th>\n",
       "      <th>...</th>\n",
       "      <th>Tumor Size</th>\n",
       "      <th>Adenocarcinoma</th>\n",
       "      <th>Large-cell carcinoma</th>\n",
       "      <th>Squamous cell carcinoma</th>\n",
       "      <th>KRAS_Col1</th>\n",
       "      <th>STK11</th>\n",
       "      <th>TSC2</th>\n",
       "      <th>TP53_Col1</th>\n",
       "      <th>CDKN2A</th>\n",
       "      <th>MSH2</th>\n",
       "    </tr>\n",
       "  </thead>\n",
       "  <tbody>\n",
       "    <tr>\n",
       "      <th>0</th>\n",
       "      <td>1</td>\n",
       "      <td>Alive</td>\n",
       "      <td>9.0</td>\n",
       "      <td>67</td>\n",
       "      <td>0</td>\n",
       "      <td>2.43</td>\n",
       "      <td>2.0</td>\n",
       "      <td>0</td>\n",
       "      <td>4</td>\n",
       "      <td>8</td>\n",
       "      <td>...</td>\n",
       "      <td>1.4</td>\n",
       "      <td>0</td>\n",
       "      <td>0</td>\n",
       "      <td>1</td>\n",
       "      <td>1</td>\n",
       "      <td>1</td>\n",
       "      <td>1</td>\n",
       "      <td>0</td>\n",
       "      <td>0</td>\n",
       "      <td>0</td>\n",
       "    </tr>\n",
       "    <tr>\n",
       "      <th>1</th>\n",
       "      <td>2</td>\n",
       "      <td>Dead</td>\n",
       "      <td>19.0</td>\n",
       "      <td>73</td>\n",
       "      <td>0</td>\n",
       "      <td>2.43</td>\n",
       "      <td>2.0</td>\n",
       "      <td>1</td>\n",
       "      <td>4</td>\n",
       "      <td>2</td>\n",
       "      <td>...</td>\n",
       "      <td>4.49</td>\n",
       "      <td>1</td>\n",
       "      <td>0</td>\n",
       "      <td>0</td>\n",
       "      <td>0</td>\n",
       "      <td>0</td>\n",
       "      <td>0</td>\n",
       "      <td>1</td>\n",
       "      <td>0</td>\n",
       "      <td>0</td>\n",
       "    </tr>\n",
       "    <tr>\n",
       "      <th>2</th>\n",
       "      <td>3</td>\n",
       "      <td>Dead</td>\n",
       "      <td>13.0</td>\n",
       "      <td>72</td>\n",
       "      <td>0</td>\n",
       "      <td>2</td>\n",
       "      <td>2.0</td>\n",
       "      <td>0</td>\n",
       "      <td>3</td>\n",
       "      <td>1</td>\n",
       "      <td>...</td>\n",
       "      <td>1.5</td>\n",
       "      <td>1</td>\n",
       "      <td>0</td>\n",
       "      <td>0</td>\n",
       "      <td>0</td>\n",
       "      <td>1</td>\n",
       "      <td>0</td>\n",
       "      <td>0</td>\n",
       "      <td>0</td>\n",
       "      <td>0</td>\n",
       "    </tr>\n",
       "    <tr>\n",
       "      <th>3</th>\n",
       "      <td>4</td>\n",
       "      <td>Dead</td>\n",
       "      <td>15.0</td>\n",
       "      <td>69</td>\n",
       "      <td>1</td>\n",
       "      <td>1</td>\n",
       "      <td>0.0</td>\n",
       "      <td>0</td>\n",
       "      <td>1</td>\n",
       "      <td>4</td>\n",
       "      <td>...</td>\n",
       "      <td>4.49</td>\n",
       "      <td>1</td>\n",
       "      <td>0</td>\n",
       "      <td>0</td>\n",
       "      <td>0</td>\n",
       "      <td>0</td>\n",
       "      <td>0</td>\n",
       "      <td>1</td>\n",
       "      <td>1</td>\n",
       "      <td>0</td>\n",
       "    </tr>\n",
       "    <tr>\n",
       "      <th>4</th>\n",
       "      <td>5</td>\n",
       "      <td>Dead</td>\n",
       "      <td>10.0</td>\n",
       "      <td>76</td>\n",
       "      <td>0</td>\n",
       "      <td>2.43</td>\n",
       "      <td>1.14</td>\n",
       "      <td>0</td>\n",
       "      <td>3</td>\n",
       "      <td>3</td>\n",
       "      <td>...</td>\n",
       "      <td>4.49</td>\n",
       "      <td>0</td>\n",
       "      <td>1</td>\n",
       "      <td>0</td>\n",
       "      <td>1</td>\n",
       "      <td>0</td>\n",
       "      <td>1</td>\n",
       "      <td>1</td>\n",
       "      <td>0</td>\n",
       "      <td>0</td>\n",
       "    </tr>\n",
       "  </tbody>\n",
       "</table>\n",
       "<p>5 rows × 22 columns</p>\n",
       "</div>"
      ],
      "text/plain": [
       "   ID Outcome  Survival.Months  Age  Num.Primaries     T     N  Radiation  \\\n",
       "0   1   Alive              9.0   67              0  2.43   2.0          0   \n",
       "1   2    Dead             19.0   73              0  2.43   2.0          1   \n",
       "2   3    Dead             13.0   72              0     2   2.0          0   \n",
       "3   4    Dead             15.0   69              1     1   0.0          0   \n",
       "4   5    Dead             10.0   76              0  2.43  1.14          0   \n",
       "\n",
       "   Stage  Num.Mutated.Genes  ...  Tumor Size  Adenocarcinoma  \\\n",
       "0      4                  8  ...         1.4               0   \n",
       "1      4                  2  ...        4.49               1   \n",
       "2      3                  1  ...         1.5               1   \n",
       "3      1                  4  ...        4.49               1   \n",
       "4      3                  3  ...        4.49               0   \n",
       "\n",
       "  Large-cell carcinoma  Squamous cell carcinoma  KRAS_Col1  STK11  TSC2  \\\n",
       "0                    0                        1          1      1     1   \n",
       "1                    0                        0          0      0     0   \n",
       "2                    0                        0          0      1     0   \n",
       "3                    0                        0          0      0     0   \n",
       "4                    1                        0          1      0     1   \n",
       "\n",
       "   TP53_Col1  CDKN2A  MSH2  \n",
       "0          0       0     0  \n",
       "1          1       0     0  \n",
       "2          0       0     0  \n",
       "3          1       1     0  \n",
       "4          1       0     0  \n",
       "\n",
       "[5 rows x 22 columns]"
      ]
     },
     "execution_count": 57,
     "metadata": {},
     "output_type": "execute_result"
    }
   ],
   "source": [
    "# data with gene columns attached\n",
    "data.head()"
   ]
  },
  {
   "cell_type": "code",
   "execution_count": 58,
   "id": "10cf631b",
   "metadata": {},
   "outputs": [
    {
     "data": {
      "text/html": [
       "<div>\n",
       "<style scoped>\n",
       "    .dataframe tbody tr th:only-of-type {\n",
       "        vertical-align: middle;\n",
       "    }\n",
       "\n",
       "    .dataframe tbody tr th {\n",
       "        vertical-align: top;\n",
       "    }\n",
       "\n",
       "    .dataframe thead th {\n",
       "        text-align: right;\n",
       "    }\n",
       "</style>\n",
       "<table border=\"1\" class=\"dataframe\">\n",
       "  <thead>\n",
       "    <tr style=\"text-align: right;\">\n",
       "      <th></th>\n",
       "      <th>ID</th>\n",
       "      <th>Outcome</th>\n",
       "      <th>Survival.Months</th>\n",
       "      <th>Age</th>\n",
       "      <th>Num.Primaries</th>\n",
       "      <th>T</th>\n",
       "      <th>N</th>\n",
       "      <th>Radiation</th>\n",
       "      <th>Stage</th>\n",
       "      <th>Both Lungs</th>\n",
       "      <th>...</th>\n",
       "      <th>Adenocarcinoma</th>\n",
       "      <th>Large-cell carcinoma</th>\n",
       "      <th>Squamous cell carcinoma</th>\n",
       "      <th>KRAS_Col1</th>\n",
       "      <th>STK11</th>\n",
       "      <th>TSC2</th>\n",
       "      <th>TP53_Col1</th>\n",
       "      <th>CDKN2A</th>\n",
       "      <th>MSH2</th>\n",
       "      <th>Mutation Difference</th>\n",
       "    </tr>\n",
       "  </thead>\n",
       "  <tbody>\n",
       "    <tr>\n",
       "      <th>0</th>\n",
       "      <td>1</td>\n",
       "      <td>1</td>\n",
       "      <td>9.0</td>\n",
       "      <td>67</td>\n",
       "      <td>0</td>\n",
       "      <td>2.43</td>\n",
       "      <td>2.0</td>\n",
       "      <td>0</td>\n",
       "      <td>4</td>\n",
       "      <td>0</td>\n",
       "      <td>...</td>\n",
       "      <td>0</td>\n",
       "      <td>0</td>\n",
       "      <td>1</td>\n",
       "      <td>1</td>\n",
       "      <td>1</td>\n",
       "      <td>1</td>\n",
       "      <td>0</td>\n",
       "      <td>0</td>\n",
       "      <td>0</td>\n",
       "      <td>0</td>\n",
       "    </tr>\n",
       "    <tr>\n",
       "      <th>1</th>\n",
       "      <td>2</td>\n",
       "      <td>0</td>\n",
       "      <td>19.0</td>\n",
       "      <td>73</td>\n",
       "      <td>0</td>\n",
       "      <td>2.43</td>\n",
       "      <td>2.0</td>\n",
       "      <td>1</td>\n",
       "      <td>4</td>\n",
       "      <td>0</td>\n",
       "      <td>...</td>\n",
       "      <td>1</td>\n",
       "      <td>0</td>\n",
       "      <td>0</td>\n",
       "      <td>0</td>\n",
       "      <td>0</td>\n",
       "      <td>0</td>\n",
       "      <td>1</td>\n",
       "      <td>0</td>\n",
       "      <td>0</td>\n",
       "      <td>0</td>\n",
       "    </tr>\n",
       "    <tr>\n",
       "      <th>2</th>\n",
       "      <td>3</td>\n",
       "      <td>0</td>\n",
       "      <td>13.0</td>\n",
       "      <td>72</td>\n",
       "      <td>0</td>\n",
       "      <td>2</td>\n",
       "      <td>2.0</td>\n",
       "      <td>0</td>\n",
       "      <td>3</td>\n",
       "      <td>0</td>\n",
       "      <td>...</td>\n",
       "      <td>1</td>\n",
       "      <td>0</td>\n",
       "      <td>0</td>\n",
       "      <td>0</td>\n",
       "      <td>1</td>\n",
       "      <td>0</td>\n",
       "      <td>0</td>\n",
       "      <td>0</td>\n",
       "      <td>0</td>\n",
       "      <td>0</td>\n",
       "    </tr>\n",
       "    <tr>\n",
       "      <th>3</th>\n",
       "      <td>4</td>\n",
       "      <td>0</td>\n",
       "      <td>15.0</td>\n",
       "      <td>69</td>\n",
       "      <td>1</td>\n",
       "      <td>1</td>\n",
       "      <td>0.0</td>\n",
       "      <td>0</td>\n",
       "      <td>1</td>\n",
       "      <td>0</td>\n",
       "      <td>...</td>\n",
       "      <td>1</td>\n",
       "      <td>0</td>\n",
       "      <td>0</td>\n",
       "      <td>0</td>\n",
       "      <td>0</td>\n",
       "      <td>0</td>\n",
       "      <td>1</td>\n",
       "      <td>1</td>\n",
       "      <td>0</td>\n",
       "      <td>0</td>\n",
       "    </tr>\n",
       "    <tr>\n",
       "      <th>4</th>\n",
       "      <td>5</td>\n",
       "      <td>0</td>\n",
       "      <td>10.0</td>\n",
       "      <td>76</td>\n",
       "      <td>0</td>\n",
       "      <td>2.43</td>\n",
       "      <td>1.14</td>\n",
       "      <td>0</td>\n",
       "      <td>3</td>\n",
       "      <td>0</td>\n",
       "      <td>...</td>\n",
       "      <td>0</td>\n",
       "      <td>1</td>\n",
       "      <td>0</td>\n",
       "      <td>1</td>\n",
       "      <td>0</td>\n",
       "      <td>1</td>\n",
       "      <td>1</td>\n",
       "      <td>0</td>\n",
       "      <td>0</td>\n",
       "      <td>0</td>\n",
       "    </tr>\n",
       "  </tbody>\n",
       "</table>\n",
       "<p>5 rows × 21 columns</p>\n",
       "</div>"
      ],
      "text/plain": [
       "   ID  Outcome  Survival.Months  Age  Num.Primaries     T     N  Radiation  \\\n",
       "0   1        1              9.0   67              0  2.43   2.0          0   \n",
       "1   2        0             19.0   73              0  2.43   2.0          1   \n",
       "2   3        0             13.0   72              0     2   2.0          0   \n",
       "3   4        0             15.0   69              1     1   0.0          0   \n",
       "4   5        0             10.0   76              0  2.43  1.14          0   \n",
       "\n",
       "   Stage  Both Lungs  ... Adenocarcinoma  Large-cell carcinoma  \\\n",
       "0      4           0  ...              0                     0   \n",
       "1      4           0  ...              1                     0   \n",
       "2      3           0  ...              1                     0   \n",
       "3      1           0  ...              1                     0   \n",
       "4      3           0  ...              0                     1   \n",
       "\n",
       "   Squamous cell carcinoma  KRAS_Col1  STK11  TSC2  TP53_Col1  CDKN2A  MSH2  \\\n",
       "0                        1          1      1     1          0       0     0   \n",
       "1                        0          0      0     0          1       0     0   \n",
       "2                        0          0      1     0          0       0     0   \n",
       "3                        0          0      0     0          1       1     0   \n",
       "4                        0          1      0     1          1       0     0   \n",
       "\n",
       "   Mutation Difference  \n",
       "0                    0  \n",
       "1                    0  \n",
       "2                    0  \n",
       "3                    0  \n",
       "4                    0  \n",
       "\n",
       "[5 rows x 21 columns]"
      ]
     },
     "execution_count": 58,
     "metadata": {},
     "output_type": "execute_result"
    }
   ],
   "source": [
    "new_Outcome = []\n",
    "new_MutDiff = []\n",
    "\n",
    "# final iteration\n",
    "for index_3, row_3 in data.iterrows():\n",
    "    # converting our target column to 0/1 flag\n",
    "    if (row_3['Outcome'] == 'Alive'):\n",
    "        new_Outcome.append(1)\n",
    "    elif (row_3['Outcome'] == 'Dead'):\n",
    "        new_Outcome.append(0)\n",
    "    \n",
    "    # adding bool flag for whenever num mutations is different from num mutated genes\n",
    "    if (row_3['Num.Mutated.Genes'] != row_3['Num.Mutations']):\n",
    "        new_MutDiff.append(1)\n",
    "    else:\n",
    "        new_MutDiff.append(0)\n",
    "        \n",
    "data['Outcome'] = new_Outcome\n",
    "data['Mutation Difference'] = new_MutDiff\n",
    "data = data.drop(columns=['Num.Mutated.Genes','Num.Mutations'])\n",
    "\n",
    "# final version of the dataframe before splitting\n",
    "data.head()"
   ]
  },
  {
   "cell_type": "code",
   "execution_count": 59,
   "id": "c3ccec4e",
   "metadata": {},
   "outputs": [
    {
     "data": {
      "text/html": [
       "<div>\n",
       "<style scoped>\n",
       "    .dataframe tbody tr th:only-of-type {\n",
       "        vertical-align: middle;\n",
       "    }\n",
       "\n",
       "    .dataframe tbody tr th {\n",
       "        vertical-align: top;\n",
       "    }\n",
       "\n",
       "    .dataframe thead th {\n",
       "        text-align: right;\n",
       "    }\n",
       "</style>\n",
       "<table border=\"1\" class=\"dataframe\">\n",
       "  <thead>\n",
       "    <tr style=\"text-align: right;\">\n",
       "      <th></th>\n",
       "      <th>ID</th>\n",
       "      <th>Outcome</th>\n",
       "      <th>Survival.Months</th>\n",
       "      <th>Age</th>\n",
       "      <th>Grade</th>\n",
       "      <th>Num.Primaries</th>\n",
       "      <th>T</th>\n",
       "      <th>N</th>\n",
       "      <th>M</th>\n",
       "      <th>Radiation</th>\n",
       "      <th>Stage</th>\n",
       "      <th>Primary.Site</th>\n",
       "      <th>Histology</th>\n",
       "      <th>Tumor.Size</th>\n",
       "      <th>Num.Mutated.Genes</th>\n",
       "      <th>Num.Mutations</th>\n",
       "    </tr>\n",
       "  </thead>\n",
       "  <tbody>\n",
       "    <tr>\n",
       "      <th>0</th>\n",
       "      <td>1</td>\n",
       "      <td>Alive</td>\n",
       "      <td>9.0</td>\n",
       "      <td>67</td>\n",
       "      <td>4</td>\n",
       "      <td>0</td>\n",
       "      <td>UNK</td>\n",
       "      <td>2.0</td>\n",
       "      <td>NaN</td>\n",
       "      <td>0</td>\n",
       "      <td>IV</td>\n",
       "      <td>Left Lower Lobe</td>\n",
       "      <td>Squamous cell carcinoma</td>\n",
       "      <td>1.4</td>\n",
       "      <td>8</td>\n",
       "      <td>8</td>\n",
       "    </tr>\n",
       "    <tr>\n",
       "      <th>1</th>\n",
       "      <td>2</td>\n",
       "      <td>Dead</td>\n",
       "      <td>19.0</td>\n",
       "      <td>73</td>\n",
       "      <td>2</td>\n",
       "      <td>0</td>\n",
       "      <td>UNK</td>\n",
       "      <td>2.0</td>\n",
       "      <td>0.0</td>\n",
       "      <td>5</td>\n",
       "      <td>IV</td>\n",
       "      <td>Right Upper Lobe</td>\n",
       "      <td>Adenocarcinoma</td>\n",
       "      <td>NaN</td>\n",
       "      <td>2</td>\n",
       "      <td>2</td>\n",
       "    </tr>\n",
       "    <tr>\n",
       "      <th>2</th>\n",
       "      <td>3</td>\n",
       "      <td>Dead</td>\n",
       "      <td>13.0</td>\n",
       "      <td>72</td>\n",
       "      <td>3</td>\n",
       "      <td>0</td>\n",
       "      <td>2</td>\n",
       "      <td>2.0</td>\n",
       "      <td>0.0</td>\n",
       "      <td>0</td>\n",
       "      <td>IIIA</td>\n",
       "      <td>Right Upper Lobe</td>\n",
       "      <td>Adenocarcinoma</td>\n",
       "      <td>1.5</td>\n",
       "      <td>1</td>\n",
       "      <td>1</td>\n",
       "    </tr>\n",
       "    <tr>\n",
       "      <th>3</th>\n",
       "      <td>4</td>\n",
       "      <td>Dead</td>\n",
       "      <td>15.0</td>\n",
       "      <td>69</td>\n",
       "      <td>9</td>\n",
       "      <td>1</td>\n",
       "      <td>1a</td>\n",
       "      <td>0.0</td>\n",
       "      <td>1.0</td>\n",
       "      <td>0</td>\n",
       "      <td>IA</td>\n",
       "      <td>Right Upper Lobe</td>\n",
       "      <td>Adenocarcinoma</td>\n",
       "      <td>NaN</td>\n",
       "      <td>4</td>\n",
       "      <td>4</td>\n",
       "    </tr>\n",
       "    <tr>\n",
       "      <th>4</th>\n",
       "      <td>5</td>\n",
       "      <td>Dead</td>\n",
       "      <td>10.0</td>\n",
       "      <td>76</td>\n",
       "      <td>9</td>\n",
       "      <td>0</td>\n",
       "      <td>UNK</td>\n",
       "      <td>NaN</td>\n",
       "      <td>NaN</td>\n",
       "      <td>0</td>\n",
       "      <td>IIIA</td>\n",
       "      <td>Left Hilar</td>\n",
       "      <td>Large-cell carcinoma</td>\n",
       "      <td>NaN</td>\n",
       "      <td>3</td>\n",
       "      <td>3</td>\n",
       "    </tr>\n",
       "  </tbody>\n",
       "</table>\n",
       "</div>"
      ],
      "text/plain": [
       "   ID Outcome  Survival.Months  Age  Grade  Num.Primaries    T    N    M  \\\n",
       "0   1   Alive              9.0   67      4              0  UNK  2.0  NaN   \n",
       "1   2    Dead             19.0   73      2              0  UNK  2.0  0.0   \n",
       "2   3    Dead             13.0   72      3              0    2  2.0  0.0   \n",
       "3   4    Dead             15.0   69      9              1   1a  0.0  1.0   \n",
       "4   5    Dead             10.0   76      9              0  UNK  NaN  NaN   \n",
       "\n",
       "   Radiation Stage      Primary.Site                Histology  Tumor.Size  \\\n",
       "0          0    IV   Left Lower Lobe  Squamous cell carcinoma         1.4   \n",
       "1          5    IV  Right Upper Lobe           Adenocarcinoma         NaN   \n",
       "2          0  IIIA  Right Upper Lobe           Adenocarcinoma         1.5   \n",
       "3          0    IA  Right Upper Lobe           Adenocarcinoma         NaN   \n",
       "4          0  IIIA        Left Hilar     Large-cell carcinoma         NaN   \n",
       "\n",
       "   Num.Mutated.Genes  Num.Mutations  \n",
       "0                  8              8  \n",
       "1                  2              2  \n",
       "2                  1              1  \n",
       "3                  4              4  \n",
       "4                  3              3  "
      ]
     },
     "execution_count": 59,
     "metadata": {},
     "output_type": "execute_result"
    }
   ],
   "source": [
    "# original dataframe\n",
    "clinical_df.head()"
   ]
  },
  {
   "cell_type": "markdown",
   "id": "9b9e9628",
   "metadata": {},
   "source": [
    "# BUILDING A RANDOM FOREST MODEL"
   ]
  },
  {
   "cell_type": "code",
   "execution_count": 60,
   "id": "313f6ada",
   "metadata": {},
   "outputs": [
    {
     "data": {
      "text/plain": [
       "(190, 19)"
      ]
     },
     "execution_count": 60,
     "metadata": {},
     "output_type": "execute_result"
    }
   ],
   "source": [
    "X = data.drop(columns=['ID','Outcome'])\n",
    "X.shape"
   ]
  },
  {
   "cell_type": "code",
   "execution_count": 61,
   "id": "70f371e9",
   "metadata": {},
   "outputs": [
    {
     "data": {
      "text/plain": [
       "(190,)"
      ]
     },
     "execution_count": 61,
     "metadata": {},
     "output_type": "execute_result"
    }
   ],
   "source": [
    "y = data['Outcome'].to_numpy()\n",
    "y.shape"
   ]
  },
  {
   "cell_type": "code",
   "execution_count": 62,
   "id": "929bec33",
   "metadata": {},
   "outputs": [],
   "source": [
    "X_train, X_test, y_train, y_test = train_test_split(X, y, test_size=0.10)"
   ]
  },
  {
   "cell_type": "code",
   "execution_count": 63,
   "id": "c3fbebc7",
   "metadata": {},
   "outputs": [],
   "source": [
    "model = RandomForestClassifier(n_estimators=10, criterion=\"entropy\")\n",
    "\n",
    "model.fit(X_train, y_train)\n",
    "preds = model.predict(X_test)"
   ]
  },
  {
   "cell_type": "code",
   "execution_count": 68,
   "id": "faad8bac",
   "metadata": {},
   "outputs": [
    {
     "name": "stdout",
     "output_type": "stream",
     "text": [
      "The accuracy of the model is: 0.89%\n"
     ]
    }
   ],
   "source": [
    "acc = \"{:.2f}\".format(metrics.accuracy_score(y_test, preds))\n",
    "\n",
    "print(f\"The accuracy of the model is: {acc_2}%\")"
   ]
  },
  {
   "cell_type": "code",
   "execution_count": 71,
   "id": "7d1fcc08",
   "metadata": {},
   "outputs": [
    {
     "name": "stdout",
     "output_type": "stream",
     "text": [
      "The null accuracy of the model is: 0.84%\n"
     ]
    }
   ],
   "source": [
    "null_acc_alive = float(\"{:.2f}\".format(y_test.mean()))\n",
    "null_acc_dead = 1 - null_acc_alive\n",
    "\n",
    "print(f\"The null accuracy of the model is: {max(null_acc_alive,null_acc_dead)}%\")"
   ]
  },
  {
   "cell_type": "code",
   "execution_count": 73,
   "id": "eb541360",
   "metadata": {},
   "outputs": [
    {
     "name": "stdout",
     "output_type": "stream",
     "text": [
      "[[16  0]\n",
      " [ 2  1]]\n"
     ]
    }
   ],
   "source": [
    "conf_mat = metrics.confusion_matrix(y_test, preds)\n",
    "\n",
    "print(conf_mat)"
   ]
  },
  {
   "cell_type": "code",
   "execution_count": 76,
   "id": "a4475c7e",
   "metadata": {},
   "outputs": [
    {
     "name": "stdout",
     "output_type": "stream",
     "text": [
      "There are 1 true positives\n",
      "There are 16 true negatives\n",
      "There are 0 false positives \n",
      "There are 2 false negatives \n"
     ]
    }
   ],
   "source": [
    "tp = conf_mat[1][1]\n",
    "tn = conf_mat[0][0]\n",
    "fp = conf_mat[0][1]\n",
    "fn = conf_mat[1][0]\n",
    "\n",
    "print(f\"There are {tp} true positives\")\n",
    "print(f\"There are {tn} true negatives\")\n",
    "print(f\"There are {fp} false positives \")\n",
    "print(f\"There are {fn} false negatives \")"
   ]
  }
 ],
 "metadata": {
  "kernelspec": {
   "display_name": "Python 3",
   "language": "python",
   "name": "python3"
  },
  "language_info": {
   "codemirror_mode": {
    "name": "ipython",
    "version": 3
   },
   "file_extension": ".py",
   "mimetype": "text/x-python",
   "name": "python",
   "nbconvert_exporter": "python",
   "pygments_lexer": "ipython3",
   "version": "3.9.5"
  }
 },
 "nbformat": 4,
 "nbformat_minor": 5
}
